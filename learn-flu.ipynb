{
 "cells": [
  {
   "cell_type": "markdown",
   "metadata": {},
   "source": [
    "# Preliminaries: Inspect and Set up environment"
   ]
  },
  {
   "cell_type": "code",
   "execution_count": 1,
   "metadata": {},
   "outputs": [],
   "source": [
    "# Import all libraries required\n",
    "\n",
    "# Data Processing and EDA\n",
    "import datetime\n",
    "import pandas as pd\n",
    "import numpy as np\n",
    "\n",
    "# For bioinformatics tasks\n",
    "from Bio import SeqIO"
   ]
  },
  {
   "cell_type": "code",
   "execution_count": 2,
   "metadata": {},
   "outputs": [],
   "source": [
    "# Environment\n",
    "# Show all the output for every print not just the last\n",
    "from IPython.core.interactiveshell import InteractiveShell\n",
    "# Configuration and settings\n",
    "InteractiveShell.ast_node_interactivity = \"all\"\n",
    "# To check if in Google Colab\n",
    "from IPython.core.getipython import get_ipython"
   ]
  },
  {
   "cell_type": "code",
   "execution_count": 3,
   "metadata": {},
   "outputs": [
    {
     "name": "stdout",
     "output_type": "stream",
     "text": [
      "2024-07-01 14:33:27.955953\n"
     ]
    }
   ],
   "source": [
    "print(datetime.datetime.now())"
   ]
  },
  {
   "cell_type": "code",
   "execution_count": 4,
   "metadata": {},
   "outputs": [
    {
     "name": "stdout",
     "output_type": "stream",
     "text": [
      "/home/ajvilleg/miniforge3/envs/learn-flu/bin/python\n"
     ]
    }
   ],
   "source": [
    "!which python"
   ]
  },
  {
   "cell_type": "code",
   "execution_count": 5,
   "metadata": {},
   "outputs": [
    {
     "name": "stdout",
     "output_type": "stream",
     "text": [
      "Python 3.12.2\n"
     ]
    }
   ],
   "source": [
    "!python --version"
   ]
  },
  {
   "cell_type": "code",
   "execution_count": 6,
   "metadata": {},
   "outputs": [
    {
     "name": "stdout",
     "output_type": "stream",
     "text": [
      "\n"
     ]
    }
   ],
   "source": [
    "!echo $PYTHONPATH"
   ]
  },
  {
   "cell_type": "code",
   "execution_count": 7,
   "metadata": {},
   "outputs": [],
   "source": [
    "# Suppress warnings\n",
    "import warnings\n",
    "warnings.filterwarnings('ignore')"
   ]
  },
  {
   "cell_type": "code",
   "execution_count": 8,
   "metadata": {},
   "outputs": [],
   "source": [
    "#if 'google.colab' in str(get_ipython()):\n",
    "    # TODO: if running on Google Colab, install any packages you need to here. For example:\n",
    "    #!pip install unidecode\n",
    "    #!pip install category_encoders\n",
    "    #!pip install scikeras"
   ]
  },
  {
   "cell_type": "code",
   "execution_count": 9,
   "metadata": {},
   "outputs": [],
   "source": [
    "# Let's minimize randomness\n",
    "# numpy\n",
    "np.random.seed(42)\n",
    "# accelerate\n",
    "#set_seed(42)"
   ]
  },
  {
   "cell_type": "markdown",
   "metadata": {},
   "source": [
    "# 1.0 Data Exploration"
   ]
  },
  {
   "cell_type": "markdown",
   "metadata": {},
   "source": [
    "## 1.1 Load data"
   ]
  },
  {
   "cell_type": "code",
   "execution_count": 10,
   "metadata": {},
   "outputs": [],
   "source": [
    "# Parse the FASTA file\n",
    "records = list(SeqIO.parse(\"/home/ajvilleg/Netdrive/AI/GISAID/EpiFlu/30-Jun-2024/gisaid_epiflu_sequence_2024-06-30.fasta\", \"fasta\"))\n"
   ]
  },
  {
   "cell_type": "code",
   "execution_count": 11,
   "metadata": {},
   "outputs": [],
   "source": [
    "# Extract the details from the description of each record\n",
    "data = []\n",
    "\n",
    "# Iterate through records for every pair for NA and HA segments\n",
    "for record1, record2 in zip(records[::2], records[1::2]):\n",
    "    description1 = record1.description.split('|')\n",
    "    description2 = record2.description.split('|')\n",
    "\n",
    "    # Assume the isolate name is the same for both segments\n",
    "    isolate_name1 = description1[0].strip()\n",
    "    isolate_name2 = description2[0].strip()\n",
    "    if isolate_name1 != isolate_name2:\n",
    "        print(f\"Isolate names do not match: {isolate_name1} vs {isolate_name2}\")\n",
    "        raise ValueError(\"Isolate names do not match\")\n",
    "\n",
    "    # Assume the isolate ID is the same for both segments\n",
    "    isolate_id1 = description1[1].strip()\n",
    "    isolate_id2 = description2[1].strip()\n",
    "    if isolate_id1 != isolate_id2:\n",
    "        print(f\"Isolate IDs do not match: {isolate_id1} vs {isolate_id2}\")\n",
    "        raise ValueError(\"Isolate IDs do not match\")\n",
    "\n",
    "    # Assume the flu type is the same for both segments\n",
    "    flu_type1 = description1[2].strip()\n",
    "    flu_type2 = description2[2].strip()\n",
    "    if flu_type1 != flu_type2:\n",
    "        print(f\"Flu types do not match: {flu_type1} vs {flu_type2}\")\n",
    "        raise ValueError(\"Flu types do not match\")\n",
    "\n",
    "    # Assume the lineage is the same for both segments\n",
    "    lineage1 = description1[3].strip()\n",
    "    lineage2 = description2[3].strip()\n",
    "    if lineage1 != lineage2:\n",
    "        print(f\"Lineages do not match: {lineage1} vs {lineage2}\")\n",
    "        raise ValueError(\"Lineages do not match\")\n",
    "\n",
    "    # The segment labels are different for NA and HA segments\n",
    "    segment1 = description1[4].strip()\n",
    "    segment2 = description2[4].strip()  \n",
    "\n",
    "    # Assume the collection date is the same for both segments\n",
    "    collection_date1 = description1[5].strip()\n",
    "    collection_date2 = description2[5].strip()\n",
    "    if collection_date1 != collection_date2:\n",
    "        print(f\"Collection dates do not match: {collection_date1} vs {collection_date2}\")\n",
    "        raise ValueError(\"Collection dates do not match\")\n",
    "\n",
    "    # Assume the clade is the same for both segments. This is important as this will be our label for classification\n",
    "    clade1 = description1[6].strip()\n",
    "    clade2 = description2[6].strip()\n",
    "    if clade1 != clade2:\n",
    "        print(f\"Clades do not match: {clade1} vs {clade2}\")\n",
    "        raise ValueError(\"Clades do not match\")\n",
    "\n",
    "    # The sequences will be different corresopnding to the NA and HA segments\n",
    "    sequence1 = str(record1.seq)\n",
    "    sequence2 = str(record2.seq)\n",
    "    if segment1 == 'HA':\n",
    "        sequence_ha = sequence1\n",
    "        sequence_na = sequence2\n",
    "    else: # segment2 == 'HA'\n",
    "        sequence_ha = sequence2\n",
    "        sequence_na = sequence1\n",
    "    data.append([isolate_name1, isolate_id1, flu_type1, lineage1, sequence_ha, sequence_na, collection_date1, clade1])\n",
    "\n",
    "df = pd.DataFrame(data, columns=['Isolate_Name', 'Isolate_ID', 'Flu_Type', 'Lineage', 'HA', 'NA', 'Collection Date', 'Clade'])\n"
   ]
  },
  {
   "cell_type": "code",
   "execution_count": 13,
   "metadata": {},
   "outputs": [
    {
     "data": {
      "text/html": [
       "<div>\n",
       "<style scoped>\n",
       "    .dataframe tbody tr th:only-of-type {\n",
       "        vertical-align: middle;\n",
       "    }\n",
       "\n",
       "    .dataframe tbody tr th {\n",
       "        vertical-align: top;\n",
       "    }\n",
       "\n",
       "    .dataframe thead th {\n",
       "        text-align: right;\n",
       "    }\n",
       "</style>\n",
       "<table border=\"1\" class=\"dataframe\">\n",
       "  <thead>\n",
       "    <tr style=\"text-align: right;\">\n",
       "      <th></th>\n",
       "      <th>Isolate_Name</th>\n",
       "      <th>Isolate_ID</th>\n",
       "      <th>Flu_Type</th>\n",
       "      <th>Lineage</th>\n",
       "      <th>HA</th>\n",
       "      <th>NA</th>\n",
       "      <th>Collection Date</th>\n",
       "      <th>Clade</th>\n",
       "    </tr>\n",
       "  </thead>\n",
       "  <tbody>\n",
       "    <tr>\n",
       "      <th>0</th>\n",
       "      <td>A/Michigan/136/2018</td>\n",
       "      <td>EPI_ISL_360559</td>\n",
       "      <td>A_/_H1N1</td>\n",
       "      <td>pdm09</td>\n",
       "      <td>ggaaaacaaaagcaacaaaaatgaaggcaatactagtagttctgct...</td>\n",
       "      <td>agtttaaaatgaatccaaaccaaaagataataaccattggttcgat...</td>\n",
       "      <td>2018-01-16</td>\n",
       "      <td>6B.1A</td>\n",
       "    </tr>\n",
       "    <tr>\n",
       "      <th>1</th>\n",
       "      <td>A/USA/7C9/2010</td>\n",
       "      <td>EPI_ISL_17760636</td>\n",
       "      <td>A_/_H1N1</td>\n",
       "      <td>pdm09</td>\n",
       "      <td>atgaaggcaatactagtagttctgctatatacatttgcaaccgcaa...</td>\n",
       "      <td>atgaatccaaaccaaaagataataaccattggttcgatctgtatga...</td>\n",
       "      <td>2010-11-01</td>\n",
       "      <td>6B.1</td>\n",
       "    </tr>\n",
       "    <tr>\n",
       "      <th>2</th>\n",
       "      <td>A/USA/7C7/2010</td>\n",
       "      <td>EPI_ISL_17760635</td>\n",
       "      <td>A_/_H1N1</td>\n",
       "      <td>pdm09</td>\n",
       "      <td>atgaaggcaatactagtagttctgctatatacatttgcaaccgcaa...</td>\n",
       "      <td>atgaatccaaaccaaaagataataaccattggttcgatctgtatga...</td>\n",
       "      <td>2010-11-01</td>\n",
       "      <td>6B.1</td>\n",
       "    </tr>\n",
       "    <tr>\n",
       "      <th>3</th>\n",
       "      <td>A/USA/7K3/1935</td>\n",
       "      <td>EPI_ISL_17760634</td>\n",
       "      <td>A_/_H1N1</td>\n",
       "      <td>pdm09</td>\n",
       "      <td>atgaaggcaatactagtagttctgctatatacatttgcaaccgcaa...</td>\n",
       "      <td>atgaatccaaaccaaaagataataaccattggttcggtctgtatga...</td>\n",
       "      <td>2010-11-01</td>\n",
       "      <td>6B.1</td>\n",
       "    </tr>\n",
       "    <tr>\n",
       "      <th>4</th>\n",
       "      <td>A/Michigan/98/2018</td>\n",
       "      <td>EPI_ISL_360571</td>\n",
       "      <td>A_/_H1N1</td>\n",
       "      <td>pdm09</td>\n",
       "      <td>ggaaaacaaaagcaacaaaaatgaaggcaatactagtagttctgct...</td>\n",
       "      <td>agtttaaaatgaatccaaaccaaaagataataaccattggttcgat...</td>\n",
       "      <td>2018-01-08</td>\n",
       "      <td>6B.1A</td>\n",
       "    </tr>\n",
       "    <tr>\n",
       "      <th>...</th>\n",
       "      <td>...</td>\n",
       "      <td>...</td>\n",
       "      <td>...</td>\n",
       "      <td>...</td>\n",
       "      <td>...</td>\n",
       "      <td>...</td>\n",
       "      <td>...</td>\n",
       "      <td>...</td>\n",
       "    </tr>\n",
       "    <tr>\n",
       "      <th>15414</th>\n",
       "      <td>A/Washington/97/2020</td>\n",
       "      <td>EPI_ISL_2588628</td>\n",
       "      <td>A_/_H1N1</td>\n",
       "      <td>pdm09</td>\n",
       "      <td>ggaaaacaaaagcaacaaaaatgaaggcaatactagtagttatgct...</td>\n",
       "      <td>agtttaaaatgaatccaaaccaaaagataataaccattggttctat...</td>\n",
       "      <td>2020-02-04</td>\n",
       "      <td>6B.1A.5a.2</td>\n",
       "    </tr>\n",
       "    <tr>\n",
       "      <th>15415</th>\n",
       "      <td>A/Washington/96/2020</td>\n",
       "      <td>EPI_ISL_2588627</td>\n",
       "      <td>A_/_H1N1</td>\n",
       "      <td>pdm09</td>\n",
       "      <td>ggaaaacaaaagcaacaaaaatgaaggcaatactagtagttatgct...</td>\n",
       "      <td>agtttaaaatgaatccaaaccaaaagataataaccattggttctat...</td>\n",
       "      <td>2020-02-04</td>\n",
       "      <td>6B.1A.5a.2</td>\n",
       "    </tr>\n",
       "    <tr>\n",
       "      <th>15416</th>\n",
       "      <td>A/Washington/90/2020</td>\n",
       "      <td>EPI_ISL_2588626</td>\n",
       "      <td>A_/_H1N1</td>\n",
       "      <td>pdm09</td>\n",
       "      <td>ggaaaacaaaagcaacaaaaatgaaggcaatactagtagttctgct...</td>\n",
       "      <td>agtttaaaatgaatccaaaccaaaagataataaccattggctctat...</td>\n",
       "      <td>2020-02-02</td>\n",
       "      <td>6B.1A.5a.1</td>\n",
       "    </tr>\n",
       "    <tr>\n",
       "      <th>15417</th>\n",
       "      <td>A/Pennsylvania/164/2020</td>\n",
       "      <td>EPI_ISL_2588633</td>\n",
       "      <td>A_/_H1N1</td>\n",
       "      <td>pdm09</td>\n",
       "      <td>ggaaaacaaaagcaacaaaaatgaaggcaatactagtagttatgct...</td>\n",
       "      <td>agtttaaaatgaatccaaaccaaaagataataaccattggttctat...</td>\n",
       "      <td>2020-02-24</td>\n",
       "      <td>6B.1A.5a.2</td>\n",
       "    </tr>\n",
       "    <tr>\n",
       "      <th>15418</th>\n",
       "      <td>A/Washington/91/2020</td>\n",
       "      <td>EPI_ISL_2588632</td>\n",
       "      <td>A_/_H1N1</td>\n",
       "      <td>pdm09</td>\n",
       "      <td>ggaaaacaaaagcaacaaaaatgaaggcaatactagtagttatgct...</td>\n",
       "      <td>agtttaaaatgaatccaaaccaaaagataataaccattggttctat...</td>\n",
       "      <td>2020-02-02</td>\n",
       "      <td>6B.1A.5a.2</td>\n",
       "    </tr>\n",
       "  </tbody>\n",
       "</table>\n",
       "<p>15419 rows × 8 columns</p>\n",
       "</div>"
      ],
      "text/plain": [
       "                  Isolate_Name        Isolate_ID  Flu_Type Lineage  \\\n",
       "0          A/Michigan/136/2018    EPI_ISL_360559  A_/_H1N1   pdm09   \n",
       "1               A/USA/7C9/2010  EPI_ISL_17760636  A_/_H1N1   pdm09   \n",
       "2               A/USA/7C7/2010  EPI_ISL_17760635  A_/_H1N1   pdm09   \n",
       "3               A/USA/7K3/1935  EPI_ISL_17760634  A_/_H1N1   pdm09   \n",
       "4           A/Michigan/98/2018    EPI_ISL_360571  A_/_H1N1   pdm09   \n",
       "...                        ...               ...       ...     ...   \n",
       "15414     A/Washington/97/2020   EPI_ISL_2588628  A_/_H1N1   pdm09   \n",
       "15415     A/Washington/96/2020   EPI_ISL_2588627  A_/_H1N1   pdm09   \n",
       "15416     A/Washington/90/2020   EPI_ISL_2588626  A_/_H1N1   pdm09   \n",
       "15417  A/Pennsylvania/164/2020   EPI_ISL_2588633  A_/_H1N1   pdm09   \n",
       "15418     A/Washington/91/2020   EPI_ISL_2588632  A_/_H1N1   pdm09   \n",
       "\n",
       "                                                      HA  \\\n",
       "0      ggaaaacaaaagcaacaaaaatgaaggcaatactagtagttctgct...   \n",
       "1      atgaaggcaatactagtagttctgctatatacatttgcaaccgcaa...   \n",
       "2      atgaaggcaatactagtagttctgctatatacatttgcaaccgcaa...   \n",
       "3      atgaaggcaatactagtagttctgctatatacatttgcaaccgcaa...   \n",
       "4      ggaaaacaaaagcaacaaaaatgaaggcaatactagtagttctgct...   \n",
       "...                                                  ...   \n",
       "15414  ggaaaacaaaagcaacaaaaatgaaggcaatactagtagttatgct...   \n",
       "15415  ggaaaacaaaagcaacaaaaatgaaggcaatactagtagttatgct...   \n",
       "15416  ggaaaacaaaagcaacaaaaatgaaggcaatactagtagttctgct...   \n",
       "15417  ggaaaacaaaagcaacaaaaatgaaggcaatactagtagttatgct...   \n",
       "15418  ggaaaacaaaagcaacaaaaatgaaggcaatactagtagttatgct...   \n",
       "\n",
       "                                                      NA Collection Date  \\\n",
       "0      agtttaaaatgaatccaaaccaaaagataataaccattggttcgat...      2018-01-16   \n",
       "1      atgaatccaaaccaaaagataataaccattggttcgatctgtatga...      2010-11-01   \n",
       "2      atgaatccaaaccaaaagataataaccattggttcgatctgtatga...      2010-11-01   \n",
       "3      atgaatccaaaccaaaagataataaccattggttcggtctgtatga...      2010-11-01   \n",
       "4      agtttaaaatgaatccaaaccaaaagataataaccattggttcgat...      2018-01-08   \n",
       "...                                                  ...             ...   \n",
       "15414  agtttaaaatgaatccaaaccaaaagataataaccattggttctat...      2020-02-04   \n",
       "15415  agtttaaaatgaatccaaaccaaaagataataaccattggttctat...      2020-02-04   \n",
       "15416  agtttaaaatgaatccaaaccaaaagataataaccattggctctat...      2020-02-02   \n",
       "15417  agtttaaaatgaatccaaaccaaaagataataaccattggttctat...      2020-02-24   \n",
       "15418  agtttaaaatgaatccaaaccaaaagataataaccattggttctat...      2020-02-02   \n",
       "\n",
       "            Clade  \n",
       "0           6B.1A  \n",
       "1            6B.1  \n",
       "2            6B.1  \n",
       "3            6B.1  \n",
       "4           6B.1A  \n",
       "...           ...  \n",
       "15414  6B.1A.5a.2  \n",
       "15415  6B.1A.5a.2  \n",
       "15416  6B.1A.5a.1  \n",
       "15417  6B.1A.5a.2  \n",
       "15418  6B.1A.5a.2  \n",
       "\n",
       "[15419 rows x 8 columns]"
      ]
     },
     "metadata": {},
     "output_type": "display_data"
    }
   ],
   "source": [
    "from IPython.display import display\n",
    "display(df)\n",
    "\n"
   ]
  },
  {
   "cell_type": "markdown",
   "metadata": {},
   "source": [
    "## 1.2 EDA"
   ]
  }
 ],
 "metadata": {
  "kernelspec": {
   "display_name": "learn-flu",
   "language": "python",
   "name": "python3"
  },
  "language_info": {
   "codemirror_mode": {
    "name": "ipython",
    "version": 3
   },
   "file_extension": ".py",
   "mimetype": "text/x-python",
   "name": "python",
   "nbconvert_exporter": "python",
   "pygments_lexer": "ipython3",
   "version": "3.12.2"
  }
 },
 "nbformat": 4,
 "nbformat_minor": 2
}
