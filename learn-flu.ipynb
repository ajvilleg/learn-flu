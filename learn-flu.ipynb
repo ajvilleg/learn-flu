{
 "cells": [
  {
   "cell_type": "markdown",
   "metadata": {},
   "source": [
    "# Preliminaries: Inspect and Set up environment"
   ]
  },
  {
   "cell_type": "code",
   "execution_count": 1,
   "metadata": {},
   "outputs": [
    {
     "name": "stderr",
     "output_type": "stream",
     "text": [
      "/home/ajvilleg/miniforge3/envs/learn-flu/lib/python3.12/site-packages/Bio/pairwise2.py:278: BiopythonDeprecationWarning: Bio.pairwise2 has been deprecated, and we intend to remove it in a future release of Biopython. As an alternative, please consider using Bio.Align.PairwiseAligner as a replacement, and contact the Biopython developers if you still need the Bio.pairwise2 module.\n",
      "  warnings.warn(\n"
     ]
    }
   ],
   "source": [
    "# Import all libraries required\n",
    "\n",
    "# Data Processing and EDA\n",
    "import datetime\n",
    "import pandas as pd\n",
    "import numpy as np\n",
    "\n",
    "# For bioinformatics tasks\n",
    "from Bio import SeqIO\n",
    "# older alignment method\n",
    "from Bio import pairwise2\n",
    "from Bio.pairwise2 import format_alignment\n",
    "# newer alignment method - not using this, \n",
    "# but just don't want to forget this option\n",
    "from Bio import Align\n",
    "from Bio.Align import PairwiseAligner\n",
    "import multiprocessing\n",
    "\n",
    "# For Machine Learning\n",
    "from sklearn.preprocessing import OneHotEncoder, LabelEncoder\n",
    "from sklearn.pipeline import Pipeline\n",
    "from sklearn.compose import ColumnTransformer\n",
    "from sklearn.base import BaseEstimator, TransformerMixin\n",
    "from collections import Counter\n",
    "from sklearn.model_selection import train_test_split\n",
    "from sklearn.linear_model import LogisticRegression\n",
    "from sklearn.ensemble import RandomForestClassifier\n",
    "\n",
    "# For Evaluation\n",
    "from sklearn.metrics import accuracy_score, precision_score, recall_score, f1_score, classification_report, confusion_matrix\n",
    "from seaborn import heatmap\n",
    "from sklearn.inspection import partial_dependence\n",
    "import matplotlib.pyplot as plt"
   ]
  },
  {
   "cell_type": "code",
   "execution_count": 2,
   "metadata": {},
   "outputs": [],
   "source": [
    "# Environment\n",
    "# Show all the output for every print not just the last\n",
    "from IPython.core.interactiveshell import InteractiveShell\n",
    "# Configuration and settings\n",
    "InteractiveShell.ast_node_interactivity = \"all\"\n",
    "# To check if in Google Colab\n",
    "from IPython.core.getipython import get_ipython\n",
    "# To display all the output in a nicer table\n",
    "from IPython.display import display\n",
    "# To time the execution of the code\n",
    "import time\n",
    "import os.path"
   ]
  },
  {
   "cell_type": "code",
   "execution_count": 3,
   "metadata": {},
   "outputs": [
    {
     "name": "stdout",
     "output_type": "stream",
     "text": [
      "2024-07-26 16:30:30.133613\n"
     ]
    }
   ],
   "source": [
    "print(datetime.datetime.now())"
   ]
  },
  {
   "cell_type": "code",
   "execution_count": 4,
   "metadata": {},
   "outputs": [
    {
     "name": "stdout",
     "output_type": "stream",
     "text": [
      "/home/ajvilleg/miniforge3/envs/learn-flu/bin/python\n"
     ]
    }
   ],
   "source": [
    "!which python"
   ]
  },
  {
   "cell_type": "code",
   "execution_count": 5,
   "metadata": {},
   "outputs": [
    {
     "name": "stdout",
     "output_type": "stream",
     "text": [
      "Python 3.12.2\n"
     ]
    }
   ],
   "source": [
    "!python --version"
   ]
  },
  {
   "cell_type": "code",
   "execution_count": 6,
   "metadata": {},
   "outputs": [
    {
     "name": "stdout",
     "output_type": "stream",
     "text": [
      "\n"
     ]
    }
   ],
   "source": [
    "!echo $PYTHONPATH"
   ]
  },
  {
   "cell_type": "code",
   "execution_count": 7,
   "metadata": {},
   "outputs": [],
   "source": [
    "# Suppress warnings\n",
    "import warnings\n",
    "warnings.filterwarnings('ignore')"
   ]
  },
  {
   "cell_type": "code",
   "execution_count": 8,
   "metadata": {},
   "outputs": [],
   "source": [
    "#if 'google.colab' in str(get_ipython()):\n",
    "    # TODO: if running on Google Colab, install any packages you need to here. For example:\n",
    "    #!pip install unidecode\n",
    "    #!pip install category_encoders\n",
    "    #!pip install scikeras"
   ]
  },
  {
   "cell_type": "code",
   "execution_count": 9,
   "metadata": {},
   "outputs": [],
   "source": [
    "# Let's minimize randomness\n",
    "# numpy\n",
    "np.random.seed(42)"
   ]
  },
  {
   "cell_type": "markdown",
   "metadata": {},
   "source": [
    "Start the timer"
   ]
  },
  {
   "cell_type": "code",
   "execution_count": 10,
   "metadata": {},
   "outputs": [],
   "source": [
    "# Start timing the entire process\n",
    "start_time = time.time()"
   ]
  },
  {
   "cell_type": "markdown",
   "metadata": {},
   "source": [
    "# 1.0 Data Exploration"
   ]
  },
  {
   "cell_type": "markdown",
   "metadata": {},
   "source": [
    "## 1.1 Load data"
   ]
  },
  {
   "cell_type": "code",
   "execution_count": 11,
   "metadata": {},
   "outputs": [],
   "source": [
    "# Parse the FASTA file\n",
    "records = list(SeqIO.parse(\"/home/ajvilleg/Netdrive/AI/GISAID/EpiFlu_Training/30-Jun-2024/gisaid_epiflu_sequence_2024-06-30.fasta\", \"fasta\"))\n"
   ]
  },
  {
   "cell_type": "code",
   "execution_count": 12,
   "metadata": {},
   "outputs": [],
   "source": [
    "# Extract the details from the description of each record\n",
    "data = []\n",
    "\n",
    "# Iterate through records for every pair for NA and HA segments\n",
    "for record1, record2 in zip(records[::2], records[1::2]):\n",
    "    description1 = record1.description.split('|')\n",
    "    description2 = record2.description.split('|')\n",
    "\n",
    "    # Assume the isolate name is the same for both segments\n",
    "    isolate_name1 = description1[0].strip()\n",
    "    isolate_name2 = description2[0].strip()\n",
    "    if isolate_name1 != isolate_name2:\n",
    "        print(f\"Isolate names do not match: {isolate_name1} vs {isolate_name2}\")\n",
    "        raise ValueError(\"Isolate names do not match\")\n",
    "\n",
    "    # Assume the isolate ID is the same for both segments\n",
    "    isolate_id1 = description1[1].strip()\n",
    "    isolate_id2 = description2[1].strip()\n",
    "    if isolate_id1 != isolate_id2:\n",
    "        print(f\"Isolate IDs do not match: {isolate_id1} vs {isolate_id2}\")\n",
    "        raise ValueError(\"Isolate IDs do not match\")\n",
    "\n",
    "    # Assume the flu type is the same for both segments\n",
    "    flu_type1 = description1[2].strip()\n",
    "    flu_type2 = description2[2].strip()\n",
    "    if flu_type1 != flu_type2:\n",
    "        print(f\"Flu types do not match: {flu_type1} vs {flu_type2}\")\n",
    "        raise ValueError(\"Flu types do not match\")\n",
    "\n",
    "    # Assume the lineage is the same for both segments\n",
    "    lineage1 = description1[3].strip()\n",
    "    lineage2 = description2[3].strip()\n",
    "    if lineage1 != lineage2:\n",
    "        print(f\"Lineages do not match: {lineage1} vs {lineage2}\")\n",
    "        raise ValueError(\"Lineages do not match\")\n",
    "\n",
    "    # The segment labels are different for NA and HA segments\n",
    "    segment1 = description1[4].strip()\n",
    "    segment2 = description2[4].strip()  \n",
    "\n",
    "    # Assume the collection date is the same for both segments\n",
    "    collection_date1 = description1[5].strip()\n",
    "    collection_date2 = description2[5].strip()\n",
    "    if collection_date1 != collection_date2:\n",
    "        print(f\"Collection dates do not match: {collection_date1} vs {collection_date2}\")\n",
    "        raise ValueError(\"Collection dates do not match\")\n",
    "\n",
    "    # Assume the clade is the same for both segments. This is important as this will be our label for classification\n",
    "    clade1 = description1[6].strip()\n",
    "    clade2 = description2[6].strip()\n",
    "    if clade1 != clade2:\n",
    "        print(f\"Clades do not match: {clade1} vs {clade2}\")\n",
    "        raise ValueError(\"Clades do not match\")\n",
    "\n",
    "    # The sequences will be different corresopnding to the NA and HA segments\n",
    "    sequence1 = str(record1.seq)\n",
    "    sequence2 = str(record2.seq)\n",
    "    if segment1 == 'HA':\n",
    "        sequence_ha = sequence1\n",
    "        sequence_na = sequence2\n",
    "    else: # segment2 == 'HA'\n",
    "        sequence_ha = sequence2\n",
    "        sequence_na = sequence1\n",
    "    data.append([isolate_name1, isolate_id1, flu_type1, lineage1, sequence_ha, sequence_na, collection_date1, clade1])\n",
    "\n",
    "df = pd.DataFrame(data, columns=['Isolate_Name', 'Isolate_ID', 'Flu_Type', 'Lineage', 'HA', 'NA', 'Collection Date', 'Clade'])\n"
   ]
  },
  {
   "cell_type": "code",
   "execution_count": 13,
   "metadata": {},
   "outputs": [
    {
     "data": {
      "text/html": [
       "<div>\n",
       "<style scoped>\n",
       "    .dataframe tbody tr th:only-of-type {\n",
       "        vertical-align: middle;\n",
       "    }\n",
       "\n",
       "    .dataframe tbody tr th {\n",
       "        vertical-align: top;\n",
       "    }\n",
       "\n",
       "    .dataframe thead th {\n",
       "        text-align: right;\n",
       "    }\n",
       "</style>\n",
       "<table border=\"1\" class=\"dataframe\">\n",
       "  <thead>\n",
       "    <tr style=\"text-align: right;\">\n",
       "      <th></th>\n",
       "      <th>Isolate_Name</th>\n",
       "      <th>Isolate_ID</th>\n",
       "      <th>Flu_Type</th>\n",
       "      <th>Lineage</th>\n",
       "      <th>HA</th>\n",
       "      <th>NA</th>\n",
       "      <th>Collection Date</th>\n",
       "      <th>Clade</th>\n",
       "    </tr>\n",
       "  </thead>\n",
       "  <tbody>\n",
       "    <tr>\n",
       "      <th>0</th>\n",
       "      <td>A/Michigan/136/2018</td>\n",
       "      <td>EPI_ISL_360559</td>\n",
       "      <td>A_/_H1N1</td>\n",
       "      <td>pdm09</td>\n",
       "      <td>ggaaaacaaaagcaacaaaaatgaaggcaatactagtagttctgct...</td>\n",
       "      <td>agtttaaaatgaatccaaaccaaaagataataaccattggttcgat...</td>\n",
       "      <td>2018-01-16</td>\n",
       "      <td>6B.1A</td>\n",
       "    </tr>\n",
       "    <tr>\n",
       "      <th>1</th>\n",
       "      <td>A/USA/7C9/2010</td>\n",
       "      <td>EPI_ISL_17760636</td>\n",
       "      <td>A_/_H1N1</td>\n",
       "      <td>pdm09</td>\n",
       "      <td>atgaaggcaatactagtagttctgctatatacatttgcaaccgcaa...</td>\n",
       "      <td>atgaatccaaaccaaaagataataaccattggttcgatctgtatga...</td>\n",
       "      <td>2010-11-01</td>\n",
       "      <td>6B.1</td>\n",
       "    </tr>\n",
       "    <tr>\n",
       "      <th>2</th>\n",
       "      <td>A/USA/7C7/2010</td>\n",
       "      <td>EPI_ISL_17760635</td>\n",
       "      <td>A_/_H1N1</td>\n",
       "      <td>pdm09</td>\n",
       "      <td>atgaaggcaatactagtagttctgctatatacatttgcaaccgcaa...</td>\n",
       "      <td>atgaatccaaaccaaaagataataaccattggttcgatctgtatga...</td>\n",
       "      <td>2010-11-01</td>\n",
       "      <td>6B.1</td>\n",
       "    </tr>\n",
       "    <tr>\n",
       "      <th>3</th>\n",
       "      <td>A/USA/7K3/1935</td>\n",
       "      <td>EPI_ISL_17760634</td>\n",
       "      <td>A_/_H1N1</td>\n",
       "      <td>pdm09</td>\n",
       "      <td>atgaaggcaatactagtagttctgctatatacatttgcaaccgcaa...</td>\n",
       "      <td>atgaatccaaaccaaaagataataaccattggttcggtctgtatga...</td>\n",
       "      <td>2010-11-01</td>\n",
       "      <td>6B.1</td>\n",
       "    </tr>\n",
       "    <tr>\n",
       "      <th>4</th>\n",
       "      <td>A/Michigan/98/2018</td>\n",
       "      <td>EPI_ISL_360571</td>\n",
       "      <td>A_/_H1N1</td>\n",
       "      <td>pdm09</td>\n",
       "      <td>ggaaaacaaaagcaacaaaaatgaaggcaatactagtagttctgct...</td>\n",
       "      <td>agtttaaaatgaatccaaaccaaaagataataaccattggttcgat...</td>\n",
       "      <td>2018-01-08</td>\n",
       "      <td>6B.1A</td>\n",
       "    </tr>\n",
       "    <tr>\n",
       "      <th>...</th>\n",
       "      <td>...</td>\n",
       "      <td>...</td>\n",
       "      <td>...</td>\n",
       "      <td>...</td>\n",
       "      <td>...</td>\n",
       "      <td>...</td>\n",
       "      <td>...</td>\n",
       "      <td>...</td>\n",
       "    </tr>\n",
       "    <tr>\n",
       "      <th>15414</th>\n",
       "      <td>A/Washington/97/2020</td>\n",
       "      <td>EPI_ISL_2588628</td>\n",
       "      <td>A_/_H1N1</td>\n",
       "      <td>pdm09</td>\n",
       "      <td>ggaaaacaaaagcaacaaaaatgaaggcaatactagtagttatgct...</td>\n",
       "      <td>agtttaaaatgaatccaaaccaaaagataataaccattggttctat...</td>\n",
       "      <td>2020-02-04</td>\n",
       "      <td>6B.1A.5a.2</td>\n",
       "    </tr>\n",
       "    <tr>\n",
       "      <th>15415</th>\n",
       "      <td>A/Washington/96/2020</td>\n",
       "      <td>EPI_ISL_2588627</td>\n",
       "      <td>A_/_H1N1</td>\n",
       "      <td>pdm09</td>\n",
       "      <td>ggaaaacaaaagcaacaaaaatgaaggcaatactagtagttatgct...</td>\n",
       "      <td>agtttaaaatgaatccaaaccaaaagataataaccattggttctat...</td>\n",
       "      <td>2020-02-04</td>\n",
       "      <td>6B.1A.5a.2</td>\n",
       "    </tr>\n",
       "    <tr>\n",
       "      <th>15416</th>\n",
       "      <td>A/Washington/90/2020</td>\n",
       "      <td>EPI_ISL_2588626</td>\n",
       "      <td>A_/_H1N1</td>\n",
       "      <td>pdm09</td>\n",
       "      <td>ggaaaacaaaagcaacaaaaatgaaggcaatactagtagttctgct...</td>\n",
       "      <td>agtttaaaatgaatccaaaccaaaagataataaccattggctctat...</td>\n",
       "      <td>2020-02-02</td>\n",
       "      <td>6B.1A.5a.1</td>\n",
       "    </tr>\n",
       "    <tr>\n",
       "      <th>15417</th>\n",
       "      <td>A/Pennsylvania/164/2020</td>\n",
       "      <td>EPI_ISL_2588633</td>\n",
       "      <td>A_/_H1N1</td>\n",
       "      <td>pdm09</td>\n",
       "      <td>ggaaaacaaaagcaacaaaaatgaaggcaatactagtagttatgct...</td>\n",
       "      <td>agtttaaaatgaatccaaaccaaaagataataaccattggttctat...</td>\n",
       "      <td>2020-02-24</td>\n",
       "      <td>6B.1A.5a.2</td>\n",
       "    </tr>\n",
       "    <tr>\n",
       "      <th>15418</th>\n",
       "      <td>A/Washington/91/2020</td>\n",
       "      <td>EPI_ISL_2588632</td>\n",
       "      <td>A_/_H1N1</td>\n",
       "      <td>pdm09</td>\n",
       "      <td>ggaaaacaaaagcaacaaaaatgaaggcaatactagtagttatgct...</td>\n",
       "      <td>agtttaaaatgaatccaaaccaaaagataataaccattggttctat...</td>\n",
       "      <td>2020-02-02</td>\n",
       "      <td>6B.1A.5a.2</td>\n",
       "    </tr>\n",
       "  </tbody>\n",
       "</table>\n",
       "<p>15419 rows × 8 columns</p>\n",
       "</div>"
      ],
      "text/plain": [
       "                  Isolate_Name        Isolate_ID  Flu_Type Lineage  \\\n",
       "0          A/Michigan/136/2018    EPI_ISL_360559  A_/_H1N1   pdm09   \n",
       "1               A/USA/7C9/2010  EPI_ISL_17760636  A_/_H1N1   pdm09   \n",
       "2               A/USA/7C7/2010  EPI_ISL_17760635  A_/_H1N1   pdm09   \n",
       "3               A/USA/7K3/1935  EPI_ISL_17760634  A_/_H1N1   pdm09   \n",
       "4           A/Michigan/98/2018    EPI_ISL_360571  A_/_H1N1   pdm09   \n",
       "...                        ...               ...       ...     ...   \n",
       "15414     A/Washington/97/2020   EPI_ISL_2588628  A_/_H1N1   pdm09   \n",
       "15415     A/Washington/96/2020   EPI_ISL_2588627  A_/_H1N1   pdm09   \n",
       "15416     A/Washington/90/2020   EPI_ISL_2588626  A_/_H1N1   pdm09   \n",
       "15417  A/Pennsylvania/164/2020   EPI_ISL_2588633  A_/_H1N1   pdm09   \n",
       "15418     A/Washington/91/2020   EPI_ISL_2588632  A_/_H1N1   pdm09   \n",
       "\n",
       "                                                      HA  \\\n",
       "0      ggaaaacaaaagcaacaaaaatgaaggcaatactagtagttctgct...   \n",
       "1      atgaaggcaatactagtagttctgctatatacatttgcaaccgcaa...   \n",
       "2      atgaaggcaatactagtagttctgctatatacatttgcaaccgcaa...   \n",
       "3      atgaaggcaatactagtagttctgctatatacatttgcaaccgcaa...   \n",
       "4      ggaaaacaaaagcaacaaaaatgaaggcaatactagtagttctgct...   \n",
       "...                                                  ...   \n",
       "15414  ggaaaacaaaagcaacaaaaatgaaggcaatactagtagttatgct...   \n",
       "15415  ggaaaacaaaagcaacaaaaatgaaggcaatactagtagttatgct...   \n",
       "15416  ggaaaacaaaagcaacaaaaatgaaggcaatactagtagttctgct...   \n",
       "15417  ggaaaacaaaagcaacaaaaatgaaggcaatactagtagttatgct...   \n",
       "15418  ggaaaacaaaagcaacaaaaatgaaggcaatactagtagttatgct...   \n",
       "\n",
       "                                                      NA Collection Date  \\\n",
       "0      agtttaaaatgaatccaaaccaaaagataataaccattggttcgat...      2018-01-16   \n",
       "1      atgaatccaaaccaaaagataataaccattggttcgatctgtatga...      2010-11-01   \n",
       "2      atgaatccaaaccaaaagataataaccattggttcgatctgtatga...      2010-11-01   \n",
       "3      atgaatccaaaccaaaagataataaccattggttcggtctgtatga...      2010-11-01   \n",
       "4      agtttaaaatgaatccaaaccaaaagataataaccattggttcgat...      2018-01-08   \n",
       "...                                                  ...             ...   \n",
       "15414  agtttaaaatgaatccaaaccaaaagataataaccattggttctat...      2020-02-04   \n",
       "15415  agtttaaaatgaatccaaaccaaaagataataaccattggttctat...      2020-02-04   \n",
       "15416  agtttaaaatgaatccaaaccaaaagataataaccattggctctat...      2020-02-02   \n",
       "15417  agtttaaaatgaatccaaaccaaaagataataaccattggttctat...      2020-02-24   \n",
       "15418  agtttaaaatgaatccaaaccaaaagataataaccattggttctat...      2020-02-02   \n",
       "\n",
       "            Clade  \n",
       "0           6B.1A  \n",
       "1            6B.1  \n",
       "2            6B.1  \n",
       "3            6B.1  \n",
       "4           6B.1A  \n",
       "...           ...  \n",
       "15414  6B.1A.5a.2  \n",
       "15415  6B.1A.5a.2  \n",
       "15416  6B.1A.5a.1  \n",
       "15417  6B.1A.5a.2  \n",
       "15418  6B.1A.5a.2  \n",
       "\n",
       "[15419 rows x 8 columns]"
      ]
     },
     "metadata": {},
     "output_type": "display_data"
    }
   ],
   "source": [
    "# Take a look at the data  \n",
    "display(df)"
   ]
  },
  {
   "cell_type": "markdown",
   "metadata": {},
   "source": [
    "## 1.2 EDA"
   ]
  },
  {
   "cell_type": "markdown",
   "metadata": {},
   "source": [
    "### 1.2.1 Dataframe structure"
   ]
  },
  {
   "cell_type": "code",
   "execution_count": 14,
   "metadata": {},
   "outputs": [
    {
     "name": "stdout",
     "output_type": "stream",
     "text": [
      "<class 'pandas.core.frame.DataFrame'>\n",
      "RangeIndex: 15419 entries, 0 to 15418\n",
      "Data columns (total 8 columns):\n",
      " #   Column           Non-Null Count  Dtype \n",
      "---  ------           --------------  ----- \n",
      " 0   Isolate_Name     15419 non-null  object\n",
      " 1   Isolate_ID       15419 non-null  object\n",
      " 2   Flu_Type         15419 non-null  object\n",
      " 3   Lineage          15419 non-null  object\n",
      " 4   HA               15419 non-null  object\n",
      " 5   NA               15419 non-null  object\n",
      " 6   Collection Date  15419 non-null  object\n",
      " 7   Clade            15419 non-null  object\n",
      "dtypes: object(8)\n",
      "memory usage: 963.8+ KB\n"
     ]
    }
   ],
   "source": [
    "df.info()"
   ]
  },
  {
   "cell_type": "code",
   "execution_count": 15,
   "metadata": {},
   "outputs": [
    {
     "name": "stdout",
     "output_type": "stream",
     "text": [
      "<class 'pandas.core.frame.DataFrame'>\n",
      "RangeIndex: 15419 entries, 0 to 15418\n",
      "Data columns (total 8 columns):\n",
      " #   Column           Non-Null Count  Dtype         \n",
      "---  ------           --------------  -----         \n",
      " 0   Isolate_Name     15419 non-null  object        \n",
      " 1   Isolate_ID       15419 non-null  object        \n",
      " 2   Flu_Type         15419 non-null  object        \n",
      " 3   Lineage          15419 non-null  object        \n",
      " 4   HA               15419 non-null  object        \n",
      " 5   NA               15419 non-null  object        \n",
      " 6   Collection Date  15419 non-null  datetime64[ns]\n",
      " 7   Clade            15419 non-null  object        \n",
      "dtypes: datetime64[ns](1), object(7)\n",
      "memory usage: 963.8+ KB\n"
     ]
    }
   ],
   "source": [
    "# Convert all columns to strings except Collection Date\n",
    "df = df.astype(str)\n",
    "\n",
    "# Convert \"Collection Date\" column to date\n",
    "df[\"Collection Date\"] = pd.to_datetime(df[\"Collection Date\"])\n",
    "\n",
    "df.info()"
   ]
  },
  {
   "cell_type": "markdown",
   "metadata": {},
   "source": [
    "### 1.2.2 Describe"
   ]
  },
  {
   "cell_type": "code",
   "execution_count": 16,
   "metadata": {},
   "outputs": [
    {
     "data": {
      "text/html": [
       "<div>\n",
       "<style scoped>\n",
       "    .dataframe tbody tr th:only-of-type {\n",
       "        vertical-align: middle;\n",
       "    }\n",
       "\n",
       "    .dataframe tbody tr th {\n",
       "        vertical-align: top;\n",
       "    }\n",
       "\n",
       "    .dataframe thead th {\n",
       "        text-align: right;\n",
       "    }\n",
       "</style>\n",
       "<table border=\"1\" class=\"dataframe\">\n",
       "  <thead>\n",
       "    <tr style=\"text-align: right;\">\n",
       "      <th></th>\n",
       "      <th>Collection Date</th>\n",
       "    </tr>\n",
       "  </thead>\n",
       "  <tbody>\n",
       "    <tr>\n",
       "      <th>count</th>\n",
       "      <td>15419</td>\n",
       "    </tr>\n",
       "    <tr>\n",
       "      <th>mean</th>\n",
       "      <td>2017-12-03 02:55:00.914456320</td>\n",
       "    </tr>\n",
       "    <tr>\n",
       "      <th>min</th>\n",
       "      <td>2009-01-01 00:00:00</td>\n",
       "    </tr>\n",
       "    <tr>\n",
       "      <th>25%</th>\n",
       "      <td>2016-03-03 00:00:00</td>\n",
       "    </tr>\n",
       "    <tr>\n",
       "      <th>50%</th>\n",
       "      <td>2019-01-23 00:00:00</td>\n",
       "    </tr>\n",
       "    <tr>\n",
       "      <th>75%</th>\n",
       "      <td>2020-01-22 00:00:00</td>\n",
       "    </tr>\n",
       "    <tr>\n",
       "      <th>max</th>\n",
       "      <td>2023-04-26 00:00:00</td>\n",
       "    </tr>\n",
       "  </tbody>\n",
       "</table>\n",
       "</div>"
      ],
      "text/plain": [
       "                     Collection Date\n",
       "count                          15419\n",
       "mean   2017-12-03 02:55:00.914456320\n",
       "min              2009-01-01 00:00:00\n",
       "25%              2016-03-03 00:00:00\n",
       "50%              2019-01-23 00:00:00\n",
       "75%              2020-01-22 00:00:00\n",
       "max              2023-04-26 00:00:00"
      ]
     },
     "execution_count": 16,
     "metadata": {},
     "output_type": "execute_result"
    }
   ],
   "source": [
    "df.describe()"
   ]
  },
  {
   "cell_type": "markdown",
   "metadata": {},
   "source": [
    "### 1.2.3 Duplicated rows"
   ]
  },
  {
   "cell_type": "code",
   "execution_count": 17,
   "metadata": {},
   "outputs": [
    {
     "name": "stdout",
     "output_type": "stream",
     "text": [
      "df has 1 duplicate rows\n"
     ]
    },
    {
     "data": {
      "text/html": [
       "<div>\n",
       "<style scoped>\n",
       "    .dataframe tbody tr th:only-of-type {\n",
       "        vertical-align: middle;\n",
       "    }\n",
       "\n",
       "    .dataframe tbody tr th {\n",
       "        vertical-align: top;\n",
       "    }\n",
       "\n",
       "    .dataframe thead th {\n",
       "        text-align: right;\n",
       "    }\n",
       "</style>\n",
       "<table border=\"1\" class=\"dataframe\">\n",
       "  <thead>\n",
       "    <tr style=\"text-align: right;\">\n",
       "      <th></th>\n",
       "      <th>Isolate_Name</th>\n",
       "      <th>Isolate_ID</th>\n",
       "      <th>Flu_Type</th>\n",
       "      <th>Lineage</th>\n",
       "      <th>HA</th>\n",
       "      <th>NA</th>\n",
       "      <th>Collection Date</th>\n",
       "      <th>Clade</th>\n",
       "    </tr>\n",
       "  </thead>\n",
       "  <tbody>\n",
       "    <tr>\n",
       "      <th>14162</th>\n",
       "      <td>A/Houston/2OS/2009</td>\n",
       "      <td>EPI_ISL_63939</td>\n",
       "      <td>A_/_H1N1</td>\n",
       "      <td>pdm09</td>\n",
       "      <td>aaaagcaacaaaaatgaaggcaatactagtagttctgctatataca...</td>\n",
       "      <td>aaatgaatccaaaccaaaagataataaccattggttcggtctgtat...</td>\n",
       "      <td>2009-05-18</td>\n",
       "      <td>6B.1</td>\n",
       "    </tr>\n",
       "  </tbody>\n",
       "</table>\n",
       "</div>"
      ],
      "text/plain": [
       "             Isolate_Name     Isolate_ID  Flu_Type Lineage  \\\n",
       "14162  A/Houston/2OS/2009  EPI_ISL_63939  A_/_H1N1   pdm09   \n",
       "\n",
       "                                                      HA  \\\n",
       "14162  aaaagcaacaaaaatgaaggcaatactagtagttctgctatataca...   \n",
       "\n",
       "                                                      NA Collection Date Clade  \n",
       "14162  aaatgaatccaaaccaaaagataataaccattggttcggtctgtat...      2009-05-18  6B.1  "
      ]
     },
     "metadata": {},
     "output_type": "display_data"
    },
    {
     "name": "stdout",
     "output_type": "stream",
     "text": [
      "df has 0 duplicate rows\n"
     ]
    }
   ],
   "source": [
    "# Check for duplicated rows in training data\n",
    "print(f'df has {df.duplicated().sum()} duplicate rows')\n",
    "display(df[df.duplicated()])\n",
    "# Drop duplicates and check again\n",
    "df.drop_duplicates(inplace=True)\n",
    "print(f'df has {df.duplicated().sum()} duplicate rows')"
   ]
  },
  {
   "cell_type": "markdown",
   "metadata": {},
   "source": [
    "### 1.2.4 Missing values / NaN / Empty Strings"
   ]
  },
  {
   "cell_type": "code",
   "execution_count": 18,
   "metadata": {},
   "outputs": [
    {
     "name": "stdout",
     "output_type": "stream",
     "text": [
      "Missing values in df:\n",
      "Isolate_Name       0\n",
      "Isolate_ID         0\n",
      "Flu_Type           0\n",
      "Lineage            0\n",
      "HA                 0\n",
      "NA                 0\n",
      "Collection Date    0\n",
      "Clade              0\n",
      "dtype: int64\n",
      "\n",
      "Empty string values in df:\n",
      "Isolate_Name: 0\n",
      "Isolate_ID: 0\n",
      "Flu_Type: 0\n",
      "Lineage: 0\n",
      "HA: 0\n",
      "NA: 0\n",
      "Clade: 0\n"
     ]
    }
   ],
   "source": [
    "# Check for missing values and empty strings\n",
    "print(\"Missing values in df:\")\n",
    "print(df.isnull().sum())  # Check for NaN values\n",
    "print(\"\\nEmpty string values in df:\")\n",
    "for col in df.select_dtypes(include=['object']):  # Iterate over columns with string datatype\n",
    "    print(f\"{col}: {(df[col] == '').sum()}\")     # Count empty strings"
   ]
  },
  {
   "cell_type": "code",
   "execution_count": 19,
   "metadata": {},
   "outputs": [],
   "source": [
    "# Drop rows with nulls in the training data\n",
    "df.dropna(inplace=True) # Drop rows with NaN values"
   ]
  },
  {
   "cell_type": "code",
   "execution_count": 20,
   "metadata": {},
   "outputs": [],
   "source": [
    "# Drop rows with empty strings in the training data\n",
    "\n",
    "# Create mask for rows with empty strings\n",
    "train_mask = (df == '').any(axis=1)\n",
    "\n",
    "# Invert mask to select rows without empty strings\n",
    "df = df[~train_mask]"
   ]
  },
  {
   "cell_type": "code",
   "execution_count": 21,
   "metadata": {},
   "outputs": [
    {
     "name": "stdout",
     "output_type": "stream",
     "text": [
      "Missing values in df:\n",
      "Isolate_Name       0\n",
      "Isolate_ID         0\n",
      "Flu_Type           0\n",
      "Lineage            0\n",
      "HA                 0\n",
      "NA                 0\n",
      "Collection Date    0\n",
      "Clade              0\n",
      "dtype: int64\n",
      "\n",
      "Empty string values in df:\n",
      "Isolate_Name: 0\n",
      "Isolate_ID: 0\n",
      "Flu_Type: 0\n",
      "Lineage: 0\n",
      "HA: 0\n",
      "NA: 0\n",
      "Clade: 0\n"
     ]
    }
   ],
   "source": [
    "# Check for missing values and empty strings\n",
    "print(\"Missing values in df:\")\n",
    "print(df.isnull().sum())  # Check for NaN values\n",
    "print(\"\\nEmpty string values in df:\")\n",
    "for col in df.select_dtypes(include=['object']):  # Iterate over columns with string datatype\n",
    "    print(f\"{col}: {(df[col] == '').sum()}\")     # Count empty strings"
   ]
  },
  {
   "cell_type": "markdown",
   "metadata": {},
   "source": [
    "### 1.2.5 Class imbalance in Clade column"
   ]
  },
  {
   "cell_type": "code",
   "execution_count": 22,
   "metadata": {},
   "outputs": [
    {
     "data": {
      "text/plain": [
       "Clade\n",
       "6B.1             4862\n",
       "6B.1A.5a.2a.1    1914\n",
       "6B.1A.1          1576\n",
       "6B.1A.5a.1       1538\n",
       "6B.1A.5b         1304\n",
       "6B.1A.5a.2       1152\n",
       "6B.1A.5a          922\n",
       "6B.1A             590\n",
       "6B.1A.7           510\n",
       "6B.1A.5a.2a       373\n",
       "6B.1A.6           300\n",
       "6B.1A.3           206\n",
       "6B.1A.2            82\n",
       "6B.2               44\n",
       "6B.1A.5            39\n",
       "unassigned          6\n",
       "Name: count, dtype: int64"
      ]
     },
     "execution_count": 22,
     "metadata": {},
     "output_type": "execute_result"
    }
   ],
   "source": [
    "df['Clade'].value_counts()"
   ]
  },
  {
   "cell_type": "code",
   "execution_count": 23,
   "metadata": {},
   "outputs": [],
   "source": [
    "# Drop rows with \"unassigned\" in 'Clade' from the training data\n",
    "df = df[df['Clade'] != 'unassigned']  # Filter out rows with label \"unassigned\""
   ]
  },
  {
   "cell_type": "code",
   "execution_count": 24,
   "metadata": {},
   "outputs": [
    {
     "data": {
      "text/plain": [
       "Clade\n",
       "6B.1             4862\n",
       "6B.1A.5a.2a.1    1914\n",
       "6B.1A.1          1576\n",
       "6B.1A.5a.1       1538\n",
       "6B.1A.5b         1304\n",
       "6B.1A.5a.2       1152\n",
       "6B.1A.5a          922\n",
       "6B.1A             590\n",
       "6B.1A.7           510\n",
       "6B.1A.5a.2a       373\n",
       "6B.1A.6           300\n",
       "6B.1A.3           206\n",
       "6B.1A.2            82\n",
       "6B.2               44\n",
       "6B.1A.5            39\n",
       "Name: count, dtype: int64"
      ]
     },
     "execution_count": 24,
     "metadata": {},
     "output_type": "execute_result"
    }
   ],
   "source": [
    "df['Clade'].value_counts()"
   ]
  },
  {
   "cell_type": "markdown",
   "metadata": {},
   "source": [
    "### 1.2.6 Shape"
   ]
  },
  {
   "cell_type": "code",
   "execution_count": 25,
   "metadata": {},
   "outputs": [
    {
     "data": {
      "text/plain": [
       "(15412, 8)"
      ]
     },
     "execution_count": 25,
     "metadata": {},
     "output_type": "execute_result"
    }
   ],
   "source": [
    "df.shape"
   ]
  },
  {
   "cell_type": "markdown",
   "metadata": {},
   "source": [
    "### 1.2.7 Look at sequence length stats"
   ]
  },
  {
   "cell_type": "code",
   "execution_count": 26,
   "metadata": {},
   "outputs": [
    {
     "name": "stdout",
     "output_type": "stream",
     "text": [
      "Sequence lengths in HA columns:\n"
     ]
    },
    {
     "data": {
      "text/plain": [
       "count    15412.000000\n",
       "mean      1741.636452\n",
       "std         22.450589\n",
       "min       1410.000000\n",
       "25%       1734.000000\n",
       "50%       1752.000000\n",
       "75%       1752.000000\n",
       "max       1922.000000\n",
       "dtype: float64"
      ]
     },
     "execution_count": 26,
     "metadata": {},
     "output_type": "execute_result"
    },
    {
     "name": "stdout",
     "output_type": "stream",
     "text": [
      "Sequence lengths in NA columns:\n"
     ]
    },
    {
     "data": {
      "text/plain": [
       "count    15412.000000\n",
       "mean      1428.921555\n",
       "std         12.396946\n",
       "min       1410.000000\n",
       "25%       1420.000000\n",
       "50%       1433.000000\n",
       "75%       1433.000000\n",
       "max       1701.000000\n",
       "dtype: float64"
      ]
     },
     "execution_count": 26,
     "metadata": {},
     "output_type": "execute_result"
    }
   ],
   "source": [
    "def get_sequence_length(row, column):\n",
    "    \"\"\"Calculates the length of the sequence in the specified column.\"\"\"\n",
    "    return len(row[column])\n",
    "\n",
    "ha_sequence_lengths = df.apply(get_sequence_length, axis=1, column=\"HA\")\n",
    "na_sequence_lengths = df.apply(get_sequence_length, axis=1, column=\"NA\")\n",
    "print(\"Sequence lengths in HA columns:\")\n",
    "ha_sequence_lengths.describe()\n",
    "print(\"Sequence lengths in NA columns:\")\n",
    "na_sequence_lengths.describe()\n"
   ]
  },
  {
   "cell_type": "markdown",
   "metadata": {},
   "source": [
    "### 1.2.8 Extract HA1 Region"
   ]
  },
  {
   "cell_type": "code",
   "execution_count": 27,
   "metadata": {},
   "outputs": [],
   "source": [
    "# Define the start strings for HA1 and HA2 regions\n",
    "ha1_start = \"ATGAAGGCAATACTAGTAGTTATGCTGTATACATTTACAACCGCAAATGCA\"\n",
    "ha2_start = \"GGCCTATTCGGGGCCATTGCTGGCTTCATCGAAGGGGGGTGGACA\""
   ]
  },
  {
   "cell_type": "code",
   "execution_count": 28,
   "metadata": {},
   "outputs": [],
   "source": [
    "# Using pairwise2.align.localmst - the older method\n",
    "def extract_ha1_with_alignment(ha_sequence):\n",
    "    # Align with HA1 start\n",
    "    ha1_alignments = pairwise2.align.localms(ha1_start.lower(), ha_sequence, 2, -1, -0.5, -0.1)\n",
    "    if ha1_alignments:\n",
    "        best_ha1_alignment = ha1_alignments[0]  # Get the best alignment\n",
    "        ha1_start_index = best_ha1_alignment[3] + len(ha1_start)  # Start after alignment\n",
    "\n",
    "        # Align with HA2 start\n",
    "        ha2_alignments = pairwise2.align.localms(ha2_start.lower(), ha_sequence, 2, -1, -0.5, -0.1)\n",
    "        if ha2_alignments:\n",
    "            best_ha2_alignment = ha2_alignments[0]\n",
    "            ha2_start_index = best_ha2_alignment[3]  # Exact match start\n",
    "            \n",
    "            ha1_sequence = ha_sequence[ha1_start_index:ha2_start_index]\n",
    "            return ha1_sequence\n",
    "        else:\n",
    "            return \"ERROR: HA2 region not found in alignment\"  # Or handle differently\n",
    "    else:\n",
    "        return \"ERROR: HA1 region not found in alignment\""
   ]
  },
  {
   "cell_type": "code",
   "execution_count": 29,
   "metadata": {},
   "outputs": [],
   "source": [
    "# Function to apply alignment in parallel\n",
    "def parallel_extract_ha1(ha_sequences):\n",
    "    with multiprocessing.Pool() as pool:\n",
    "        return pool.map(extract_ha1_with_alignment, ha_sequences)"
   ]
  },
  {
   "cell_type": "code",
   "execution_count": 30,
   "metadata": {},
   "outputs": [],
   "source": [
    "# Define the data file name that we will use \n",
    "# to save the extracted HA1 sequences so we can \n",
    "# just reload them later instead of rerunning the extraction which takes time\n",
    "data_file = \"train_flu_data_with_ha1_for_clade_prediction.csv\""
   ]
  },
  {
   "cell_type": "code",
   "execution_count": 31,
   "metadata": {},
   "outputs": [
    {
     "name": "stdout",
     "output_type": "stream",
     "text": [
      "Loading pre-processed data from train_flu_data_with_ha1_for_clade_prediction.csv\n"
     ]
    }
   ],
   "source": [
    "# Check if the data file exists\n",
    "if os.path.isfile(data_file):\n",
    "    print(f\"Loading pre-processed data from {data_file}\")\n",
    "    df = pd.read_csv(data_file)\n",
    "else:\n",
    "    print(\"Pre-processed data saved to external file not found. Performing sequence alignment and extraction...\")\n",
    "\n",
    "    # Multi-threaded\n",
    "    # Apply the function in parallel (assuming your DataFrame is named 'df')\n",
    "    df['HA1'] = parallel_extract_ha1(df['HA'].astype(str).tolist())\n",
    "\n",
    "    # Show a sample alignment of the first HA sequence\n",
    "    print(\"\\n### Sample Alignment of the First HA Sequence:\\n\") \n",
    "    first_alignment = pairwise2.align.localms(ha1_start.lower(), df['HA'][0], 2, -1, -0.5, -0.1)[0]\n",
    "    print(format_alignment(*first_alignment))\n",
    "\n",
    "    # Save the processed data\n",
    "    print(\"Save the processed data to external file to speed up future runs.\")\n",
    "    df.to_csv(data_file, index=False)"
   ]
  },
  {
   "cell_type": "code",
   "execution_count": 32,
   "metadata": {},
   "outputs": [
    {
     "data": {
      "text/html": [
       "<div>\n",
       "<style scoped>\n",
       "    .dataframe tbody tr th:only-of-type {\n",
       "        vertical-align: middle;\n",
       "    }\n",
       "\n",
       "    .dataframe tbody tr th {\n",
       "        vertical-align: top;\n",
       "    }\n",
       "\n",
       "    .dataframe thead th {\n",
       "        text-align: right;\n",
       "    }\n",
       "</style>\n",
       "<table border=\"1\" class=\"dataframe\">\n",
       "  <thead>\n",
       "    <tr style=\"text-align: right;\">\n",
       "      <th></th>\n",
       "      <th>Isolate_Name</th>\n",
       "      <th>Isolate_ID</th>\n",
       "      <th>Flu_Type</th>\n",
       "      <th>Lineage</th>\n",
       "      <th>HA</th>\n",
       "      <th>NA</th>\n",
       "      <th>Collection Date</th>\n",
       "      <th>Clade</th>\n",
       "      <th>HA1</th>\n",
       "    </tr>\n",
       "  </thead>\n",
       "  <tbody>\n",
       "    <tr>\n",
       "      <th>0</th>\n",
       "      <td>A/Michigan/136/2018</td>\n",
       "      <td>EPI_ISL_360559</td>\n",
       "      <td>A_/_H1N1</td>\n",
       "      <td>pdm09</td>\n",
       "      <td>ggaaaacaaaagcaacaaaaatgaaggcaatactagtagttctgct...</td>\n",
       "      <td>agtttaaaatgaatccaaaccaaaagataataaccattggttcgat...</td>\n",
       "      <td>2018-01-16</td>\n",
       "      <td>6B.1A</td>\n",
       "      <td>gacacattatgtataggttatcatgcgaacaattcaacagacactg...</td>\n",
       "    </tr>\n",
       "    <tr>\n",
       "      <th>1</th>\n",
       "      <td>A/USA/7C9/2010</td>\n",
       "      <td>EPI_ISL_17760636</td>\n",
       "      <td>A_/_H1N1</td>\n",
       "      <td>pdm09</td>\n",
       "      <td>atgaaggcaatactagtagttctgctatatacatttgcaaccgcaa...</td>\n",
       "      <td>atgaatccaaaccaaaagataataaccattggttcgatctgtatga...</td>\n",
       "      <td>2010-11-01</td>\n",
       "      <td>6B.1</td>\n",
       "      <td>gacacattatgtataggttatcatgcgaacaattcaacagacactg...</td>\n",
       "    </tr>\n",
       "    <tr>\n",
       "      <th>2</th>\n",
       "      <td>A/USA/7C7/2010</td>\n",
       "      <td>EPI_ISL_17760635</td>\n",
       "      <td>A_/_H1N1</td>\n",
       "      <td>pdm09</td>\n",
       "      <td>atgaaggcaatactagtagttctgctatatacatttgcaaccgcaa...</td>\n",
       "      <td>atgaatccaaaccaaaagataataaccattggttcgatctgtatga...</td>\n",
       "      <td>2010-11-01</td>\n",
       "      <td>6B.1</td>\n",
       "      <td>gacacattatgtataggttatcatgcgaacaattcaacagacactg...</td>\n",
       "    </tr>\n",
       "    <tr>\n",
       "      <th>3</th>\n",
       "      <td>A/USA/7K3/1935</td>\n",
       "      <td>EPI_ISL_17760634</td>\n",
       "      <td>A_/_H1N1</td>\n",
       "      <td>pdm09</td>\n",
       "      <td>atgaaggcaatactagtagttctgctatatacatttgcaaccgcaa...</td>\n",
       "      <td>atgaatccaaaccaaaagataataaccattggttcggtctgtatga...</td>\n",
       "      <td>2010-11-01</td>\n",
       "      <td>6B.1</td>\n",
       "      <td>gacacattatgtataggttatcatgcgaacaattcaacagacactg...</td>\n",
       "    </tr>\n",
       "    <tr>\n",
       "      <th>4</th>\n",
       "      <td>A/Michigan/98/2018</td>\n",
       "      <td>EPI_ISL_360571</td>\n",
       "      <td>A_/_H1N1</td>\n",
       "      <td>pdm09</td>\n",
       "      <td>ggaaaacaaaagcaacaaaaatgaaggcaatactagtagttctgct...</td>\n",
       "      <td>agtttaaaatgaatccaaaccaaaagataataaccattggttcgat...</td>\n",
       "      <td>2018-01-08</td>\n",
       "      <td>6B.1A</td>\n",
       "      <td>gacacattatgtataggttatcatgcgaacaattcaacagacactg...</td>\n",
       "    </tr>\n",
       "    <tr>\n",
       "      <th>...</th>\n",
       "      <td>...</td>\n",
       "      <td>...</td>\n",
       "      <td>...</td>\n",
       "      <td>...</td>\n",
       "      <td>...</td>\n",
       "      <td>...</td>\n",
       "      <td>...</td>\n",
       "      <td>...</td>\n",
       "      <td>...</td>\n",
       "    </tr>\n",
       "    <tr>\n",
       "      <th>15407</th>\n",
       "      <td>A/Washington/97/2020</td>\n",
       "      <td>EPI_ISL_2588628</td>\n",
       "      <td>A_/_H1N1</td>\n",
       "      <td>pdm09</td>\n",
       "      <td>ggaaaacaaaagcaacaaaaatgaaggcaatactagtagttatgct...</td>\n",
       "      <td>agtttaaaatgaatccaaaccaaaagataataaccattggttctat...</td>\n",
       "      <td>2020-02-04</td>\n",
       "      <td>6B.1A.5a.2</td>\n",
       "      <td>gacacattatgtataggttatcatgcgaacaattcaacagacactg...</td>\n",
       "    </tr>\n",
       "    <tr>\n",
       "      <th>15408</th>\n",
       "      <td>A/Washington/96/2020</td>\n",
       "      <td>EPI_ISL_2588627</td>\n",
       "      <td>A_/_H1N1</td>\n",
       "      <td>pdm09</td>\n",
       "      <td>ggaaaacaaaagcaacaaaaatgaaggcaatactagtagttatgct...</td>\n",
       "      <td>agtttaaaatgaatccaaaccaaaagataataaccattggttctat...</td>\n",
       "      <td>2020-02-04</td>\n",
       "      <td>6B.1A.5a.2</td>\n",
       "      <td>gacacattatgtataggttatcatgcgaacaattcaacagacactg...</td>\n",
       "    </tr>\n",
       "    <tr>\n",
       "      <th>15409</th>\n",
       "      <td>A/Washington/90/2020</td>\n",
       "      <td>EPI_ISL_2588626</td>\n",
       "      <td>A_/_H1N1</td>\n",
       "      <td>pdm09</td>\n",
       "      <td>ggaaaacaaaagcaacaaaaatgaaggcaatactagtagttctgct...</td>\n",
       "      <td>agtttaaaatgaatccaaaccaaaagataataaccattggctctat...</td>\n",
       "      <td>2020-02-02</td>\n",
       "      <td>6B.1A.5a.1</td>\n",
       "      <td>gacacattatgtataggttatcatgcgaacaattcaacagacactg...</td>\n",
       "    </tr>\n",
       "    <tr>\n",
       "      <th>15410</th>\n",
       "      <td>A/Pennsylvania/164/2020</td>\n",
       "      <td>EPI_ISL_2588633</td>\n",
       "      <td>A_/_H1N1</td>\n",
       "      <td>pdm09</td>\n",
       "      <td>ggaaaacaaaagcaacaaaaatgaaggcaatactagtagttatgct...</td>\n",
       "      <td>agtttaaaatgaatccaaaccaaaagataataaccattggttctat...</td>\n",
       "      <td>2020-02-24</td>\n",
       "      <td>6B.1A.5a.2</td>\n",
       "      <td>gacacattatgtataggttatcatgcgaacaattcaacagacactg...</td>\n",
       "    </tr>\n",
       "    <tr>\n",
       "      <th>15411</th>\n",
       "      <td>A/Washington/91/2020</td>\n",
       "      <td>EPI_ISL_2588632</td>\n",
       "      <td>A_/_H1N1</td>\n",
       "      <td>pdm09</td>\n",
       "      <td>ggaaaacaaaagcaacaaaaatgaaggcaatactagtagttatgct...</td>\n",
       "      <td>agtttaaaatgaatccaaaccaaaagataataaccattggttctat...</td>\n",
       "      <td>2020-02-02</td>\n",
       "      <td>6B.1A.5a.2</td>\n",
       "      <td>gacacattatgtataggttatcatgcgaacaattcaacagacactg...</td>\n",
       "    </tr>\n",
       "  </tbody>\n",
       "</table>\n",
       "<p>15412 rows × 9 columns</p>\n",
       "</div>"
      ],
      "text/plain": [
       "                  Isolate_Name        Isolate_ID  Flu_Type Lineage  \\\n",
       "0          A/Michigan/136/2018    EPI_ISL_360559  A_/_H1N1   pdm09   \n",
       "1               A/USA/7C9/2010  EPI_ISL_17760636  A_/_H1N1   pdm09   \n",
       "2               A/USA/7C7/2010  EPI_ISL_17760635  A_/_H1N1   pdm09   \n",
       "3               A/USA/7K3/1935  EPI_ISL_17760634  A_/_H1N1   pdm09   \n",
       "4           A/Michigan/98/2018    EPI_ISL_360571  A_/_H1N1   pdm09   \n",
       "...                        ...               ...       ...     ...   \n",
       "15407     A/Washington/97/2020   EPI_ISL_2588628  A_/_H1N1   pdm09   \n",
       "15408     A/Washington/96/2020   EPI_ISL_2588627  A_/_H1N1   pdm09   \n",
       "15409     A/Washington/90/2020   EPI_ISL_2588626  A_/_H1N1   pdm09   \n",
       "15410  A/Pennsylvania/164/2020   EPI_ISL_2588633  A_/_H1N1   pdm09   \n",
       "15411     A/Washington/91/2020   EPI_ISL_2588632  A_/_H1N1   pdm09   \n",
       "\n",
       "                                                      HA  \\\n",
       "0      ggaaaacaaaagcaacaaaaatgaaggcaatactagtagttctgct...   \n",
       "1      atgaaggcaatactagtagttctgctatatacatttgcaaccgcaa...   \n",
       "2      atgaaggcaatactagtagttctgctatatacatttgcaaccgcaa...   \n",
       "3      atgaaggcaatactagtagttctgctatatacatttgcaaccgcaa...   \n",
       "4      ggaaaacaaaagcaacaaaaatgaaggcaatactagtagttctgct...   \n",
       "...                                                  ...   \n",
       "15407  ggaaaacaaaagcaacaaaaatgaaggcaatactagtagttatgct...   \n",
       "15408  ggaaaacaaaagcaacaaaaatgaaggcaatactagtagttatgct...   \n",
       "15409  ggaaaacaaaagcaacaaaaatgaaggcaatactagtagttctgct...   \n",
       "15410  ggaaaacaaaagcaacaaaaatgaaggcaatactagtagttatgct...   \n",
       "15411  ggaaaacaaaagcaacaaaaatgaaggcaatactagtagttatgct...   \n",
       "\n",
       "                                                      NA Collection Date  \\\n",
       "0      agtttaaaatgaatccaaaccaaaagataataaccattggttcgat...      2018-01-16   \n",
       "1      atgaatccaaaccaaaagataataaccattggttcgatctgtatga...      2010-11-01   \n",
       "2      atgaatccaaaccaaaagataataaccattggttcgatctgtatga...      2010-11-01   \n",
       "3      atgaatccaaaccaaaagataataaccattggttcggtctgtatga...      2010-11-01   \n",
       "4      agtttaaaatgaatccaaaccaaaagataataaccattggttcgat...      2018-01-08   \n",
       "...                                                  ...             ...   \n",
       "15407  agtttaaaatgaatccaaaccaaaagataataaccattggttctat...      2020-02-04   \n",
       "15408  agtttaaaatgaatccaaaccaaaagataataaccattggttctat...      2020-02-04   \n",
       "15409  agtttaaaatgaatccaaaccaaaagataataaccattggctctat...      2020-02-02   \n",
       "15410  agtttaaaatgaatccaaaccaaaagataataaccattggttctat...      2020-02-24   \n",
       "15411  agtttaaaatgaatccaaaccaaaagataataaccattggttctat...      2020-02-02   \n",
       "\n",
       "            Clade                                                HA1  \n",
       "0           6B.1A  gacacattatgtataggttatcatgcgaacaattcaacagacactg...  \n",
       "1            6B.1  gacacattatgtataggttatcatgcgaacaattcaacagacactg...  \n",
       "2            6B.1  gacacattatgtataggttatcatgcgaacaattcaacagacactg...  \n",
       "3            6B.1  gacacattatgtataggttatcatgcgaacaattcaacagacactg...  \n",
       "4           6B.1A  gacacattatgtataggttatcatgcgaacaattcaacagacactg...  \n",
       "...           ...                                                ...  \n",
       "15407  6B.1A.5a.2  gacacattatgtataggttatcatgcgaacaattcaacagacactg...  \n",
       "15408  6B.1A.5a.2  gacacattatgtataggttatcatgcgaacaattcaacagacactg...  \n",
       "15409  6B.1A.5a.1  gacacattatgtataggttatcatgcgaacaattcaacagacactg...  \n",
       "15410  6B.1A.5a.2  gacacattatgtataggttatcatgcgaacaattcaacagacactg...  \n",
       "15411  6B.1A.5a.2  gacacattatgtataggttatcatgcgaacaattcaacagacactg...  \n",
       "\n",
       "[15412 rows x 9 columns]"
      ]
     },
     "execution_count": 32,
     "metadata": {},
     "output_type": "execute_result"
    }
   ],
   "source": [
    "# Print the modified DataFrame\n",
    "df"
   ]
  },
  {
   "cell_type": "code",
   "execution_count": 33,
   "metadata": {},
   "outputs": [
    {
     "name": "stdout",
     "output_type": "stream",
     "text": [
      "<class 'pandas.core.frame.DataFrame'>\n",
      "RangeIndex: 15412 entries, 0 to 15411\n",
      "Data columns (total 9 columns):\n",
      " #   Column           Non-Null Count  Dtype \n",
      "---  ------           --------------  ----- \n",
      " 0   Isolate_Name     15412 non-null  object\n",
      " 1   Isolate_ID       15412 non-null  object\n",
      " 2   Flu_Type         15412 non-null  object\n",
      " 3   Lineage          15412 non-null  object\n",
      " 4   HA               15412 non-null  object\n",
      " 5   NA               15412 non-null  object\n",
      " 6   Collection Date  15412 non-null  object\n",
      " 7   Clade            15412 non-null  object\n",
      " 8   HA1              15410 non-null  object\n",
      "dtypes: object(9)\n",
      "memory usage: 1.1+ MB\n"
     ]
    }
   ],
   "source": [
    "df.info()"
   ]
  },
  {
   "cell_type": "markdown",
   "metadata": {},
   "source": [
    "#### Drop any empty HA1 subregions"
   ]
  },
  {
   "cell_type": "code",
   "execution_count": 34,
   "metadata": {},
   "outputs": [
    {
     "data": {
      "text/plain": [
       "(15412, 9)"
      ]
     },
     "execution_count": 34,
     "metadata": {},
     "output_type": "execute_result"
    }
   ],
   "source": [
    "df.shape"
   ]
  },
  {
   "cell_type": "code",
   "execution_count": 35,
   "metadata": {},
   "outputs": [
    {
     "data": {
      "text/plain": [
       "(15412, 9)"
      ]
     },
     "execution_count": 35,
     "metadata": {},
     "output_type": "execute_result"
    }
   ],
   "source": [
    "# Drop rows with empty strings in 'HA1' from the training data\n",
    "# This step only works when the extraction is run, not when loading the saved extraction file\n",
    "df = df[(df['HA1'] != '')]\n",
    "df.shape"
   ]
  },
  {
   "cell_type": "code",
   "execution_count": 36,
   "metadata": {},
   "outputs": [
    {
     "data": {
      "text/plain": [
       "(15410, 9)"
      ]
     },
     "execution_count": 36,
     "metadata": {},
     "output_type": "execute_result"
    }
   ],
   "source": [
    "# Drop rows with NaN in 'HA1' from the training data\n",
    "# This step only works when loading the saved extraction file, not when running the extraction\n",
    "# Excel adds NaN values when saving empty strings\n",
    "df.dropna(subset=['HA1'], inplace=True)  # Drop rows with NaN (including empty strings)\n",
    "df.shape"
   ]
  },
  {
   "cell_type": "code",
   "execution_count": 37,
   "metadata": {},
   "outputs": [
    {
     "name": "stdout",
     "output_type": "stream",
     "text": [
      "Sequence lengths in HA1 columns:\n"
     ]
    },
    {
     "data": {
      "text/plain": [
       "count    15410.000000\n",
       "mean       980.796820\n",
       "std          3.101824\n",
       "min        900.000000\n",
       "25%        981.000000\n",
       "50%        981.000000\n",
       "75%        981.000000\n",
       "max        981.000000\n",
       "dtype: float64"
      ]
     },
     "execution_count": 37,
     "metadata": {},
     "output_type": "execute_result"
    }
   ],
   "source": [
    "ha1_sequence_lengths = df.apply(get_sequence_length, axis=1, column=\"HA1\")\n",
    "print(\"Sequence lengths in HA1 columns:\")\n",
    "ha1_sequence_lengths.describe()"
   ]
  },
  {
   "cell_type": "markdown",
   "metadata": {},
   "source": [
    "#### Drop rows where HA1 subregion < 981"
   ]
  },
  {
   "cell_type": "code",
   "execution_count": 38,
   "metadata": {},
   "outputs": [],
   "source": [
    "df = df[ha1_sequence_lengths >= 981]"
   ]
  },
  {
   "cell_type": "code",
   "execution_count": 39,
   "metadata": {},
   "outputs": [
    {
     "data": {
      "text/plain": [
       "(15323, 9)"
      ]
     },
     "execution_count": 39,
     "metadata": {},
     "output_type": "execute_result"
    }
   ],
   "source": [
    "df.shape"
   ]
  },
  {
   "cell_type": "code",
   "execution_count": 40,
   "metadata": {},
   "outputs": [
    {
     "name": "stdout",
     "output_type": "stream",
     "text": [
      "Sequence lengths in HA1 columns:\n"
     ]
    },
    {
     "data": {
      "text/plain": [
       "count    15323.0\n",
       "mean       981.0\n",
       "std          0.0\n",
       "min        981.0\n",
       "25%        981.0\n",
       "50%        981.0\n",
       "75%        981.0\n",
       "max        981.0\n",
       "dtype: float64"
      ]
     },
     "execution_count": 40,
     "metadata": {},
     "output_type": "execute_result"
    }
   ],
   "source": [
    "ha1_sequence_lengths = df.apply(get_sequence_length, axis=1, column=\"HA1\")\n",
    "print(\"Sequence lengths in HA1 columns:\")\n",
    "ha1_sequence_lengths.describe()"
   ]
  },
  {
   "cell_type": "markdown",
   "metadata": {},
   "source": [
    "# 2.0 Data Preparation"
   ]
  },
  {
   "cell_type": "markdown",
   "metadata": {},
   "source": [
    "### 2.1 K-mers and k-mer encoding"
   ]
  },
  {
   "cell_type": "code",
   "execution_count": 41,
   "metadata": {},
   "outputs": [],
   "source": [
    "# Define k-mer length\n",
    "# kmer_length = 12\n",
    "kmer_length = 6"
   ]
  },
  {
   "cell_type": "code",
   "execution_count": 42,
   "metadata": {},
   "outputs": [],
   "source": [
    "# Function to extract kmers (can be reused)\n",
    "def get_kmers(sequence, k):\n",
    "  \"\"\"\n",
    "  Extracts all k-mers (subsequences of length k) from a DNA sequence.\n",
    "  \"\"\"\n",
    "  kmers = []\n",
    "  for i in range(len(sequence) - k + 1):\n",
    "    kmer = sequence[i:i+k]\n",
    "    kmers.append(kmer)\n",
    "  return kmers"
   ]
  },
  {
   "cell_type": "code",
   "execution_count": 43,
   "metadata": {},
   "outputs": [],
   "source": [
    "# Create an empty dictionary to store kmers for each sequence (identified by row index)\n",
    "kmer_dict = {}"
   ]
  },
  {
   "cell_type": "code",
   "execution_count": 44,
   "metadata": {},
   "outputs": [],
   "source": [
    "# Extract k-mers with length kmer_length from each sequence and store them in the dictionary\n",
    "for i, row in df.iterrows():\n",
    "  # Extract kmers from HA sequence (assuming it exists)\n",
    "  ha1_kmers = []\n",
    "  if \"HA1\" in row:  # Check if \"HA1\" column exists\n",
    "    sequence = str(row[\"HA1\"])\n",
    "    ha1_kmers = get_kmers(sequence, kmer_length)\n",
    "\n",
    "  # Store kmers separately in the dictionary\n",
    "  kmer_dict[i] = {\n",
    "    \"HA1\": ha1_kmers\n",
    "  }"
   ]
  },
  {
   "cell_type": "code",
   "execution_count": 45,
   "metadata": {},
   "outputs": [
    {
     "data": {
      "text/plain": [
       "'gacacattatgtataggttatcatgcgaacaattcaacagacactgtagacacagtactagaaaagaatgtaacagtaacacactctgttaaccttctagaagacaagcataacgggaaactatgcaaactaagaggggtagccccattgcatttgggtaaatgtaacattgctggctggatcctgggaaatccagagtgtgaatcactctccacagcaagctcatggtcctacattgtggaaacatctagttcagacaatggaacgtgttacccaggagatttcatcaattatgaggagctaagagagcaattgagctcagtgtcatcatttgaaaggtttgagatattccccaagacaagttcatggcccaatcatgactcgaacaaaggtgtaacggcagcatgtcctcatgctggagcaaaaagcttctacaaaaatttaatatggctagttaaaaaaggaaattcatacccaaagctcagcaaatcctacattaatgataaagggaaagaagtcctcgtgctatggggcattcaccatccatctactactgctgaccaacaaagtctctatcagaatgcagatgcatatgtttttgtggggacatcaagatacagcaagaagttcaagccggaaatagcaataagacccaaagtgagggatcaagaagggagaatgaactattactggacactagtagagccgggagacaaaataacattcgaagcaactggaaatctagtggtaccgagatatgcattcgcaatggaaagaaatgctggatctggtattatcatttcagatacaccagtccacgattgcaatacaacttgtcagacacccaagggtgctataaacaccagcctcccatttcagaatatacatccgatcacaattggaaaatgtccaaaatatgtaaaaagcacaaaattgaggctggccacaggattgaggaatgtcccgtctattcaatctaga'"
      ]
     },
     "execution_count": 45,
     "metadata": {},
     "output_type": "execute_result"
    }
   ],
   "source": [
    "df.loc[1, \"HA1\"]\n"
   ]
  },
  {
   "cell_type": "code",
   "execution_count": 46,
   "metadata": {},
   "outputs": [
    {
     "name": "stdout",
     "output_type": "stream",
     "text": [
      "{'HA1': ['gacaca', 'acacat', 'cacatt', 'acatta', 'cattat', 'attatg', 'ttatgt', 'tatgta', 'atgtat', 'tgtata', 'gtatag', 'tatagg', 'ataggt', 'taggtt', 'aggtta', 'ggttat', 'gttatc', 'ttatca', 'tatcat', 'atcatg', 'tcatgc', 'catgcg', 'atgcga', 'tgcgaa', 'gcgaac', 'cgaaca', 'gaacaa', 'aacaat', 'acaatt', 'caattc', 'aattca', 'attcaa', 'ttcaac', 'tcaaca', 'caacag', 'aacaga', 'acagac', 'cagaca', 'agacac', 'gacact', 'acactg', 'cactgt', 'actgta', 'ctgtag', 'tgtaga', 'gtagac', 'tagaca', 'agacac', 'gacaca', 'acacag', 'cacagt', 'acagta', 'cagtac', 'agtact', 'gtacta', 'tactag', 'actaga', 'ctagaa', 'tagaaa', 'agaaaa', 'gaaaag', 'aaaaga', 'aaagaa', 'aagaat', 'agaatg', 'gaatgt', 'aatgta', 'atgtaa', 'tgtaac', 'gtaaca', 'taacag', 'aacagt', 'acagta', 'cagtaa', 'agtaac', 'gtaaca', 'taacac', 'aacaca', 'acacac', 'cacact', 'acactc', 'cactct', 'actctg', 'ctctgt', 'tctgtt', 'ctgtta', 'tgttaa', 'gttaac', 'ttaacc', 'taacct', 'aacctt', 'accttc', 'ccttct', 'cttcta', 'ttctag', 'tctaga', 'ctagaa', 'tagaag', 'agaaga', 'gaagac', 'aagaca', 'agacaa', 'gacaag', 'acaagc', 'caagca', 'aagcat', 'agcata', 'gcataa', 'cataac', 'ataacg', 'taacgg', 'aacggg', 'acggga', 'cgggaa', 'gggaaa', 'ggaaac', 'gaaact', 'aaacta', 'aactat', 'actatg', 'ctatgc', 'tatgca', 'atgcaa', 'tgcaaa', 'gcaaac', 'caaact', 'aaacta', 'aactaa', 'actaag', 'ctaaga', 'taagag', 'aagagg', 'agaggg', 'gagggg', 'aggggt', 'ggggta', 'gggtag', 'ggtagc', 'gtagcc', 'tagccc', 'agcccc', 'gcccca', 'ccccat', 'cccatt', 'ccattg', 'cattgc', 'attgca', 'ttgcat', 'tgcatt', 'gcattt', 'catttg', 'atttgg', 'tttggg', 'ttgggt', 'tgggta', 'gggtaa', 'ggtaaa', 'gtaaat', 'taaatg', 'aaatgt', 'aatgta', 'atgtaa', 'tgtaac', 'gtaaca', 'taacat', 'aacatt', 'acattg', 'cattgc', 'attgct', 'ttgctg', 'tgctgg', 'gctggc', 'ctggct', 'tggctg', 'ggctgg', 'gctgga', 'ctggat', 'tggatc', 'ggatcc', 'gatcct', 'atcctg', 'tcctgg', 'cctggg', 'ctggga', 'tgggaa', 'gggaaa', 'ggaaat', 'gaaatc', 'aaatcc', 'aatcca', 'atccag', 'tccaga', 'ccagag', 'cagagt', 'agagtg', 'gagtgt', 'agtgtg', 'gtgtga', 'tgtgaa', 'gtgaat', 'tgaatc', 'gaatca', 'aatcac', 'atcact', 'tcactc', 'cactct', 'actctc', 'ctctcc', 'tctcca', 'ctccac', 'tccaca', 'ccacag', 'cacagc', 'acagca', 'cagcaa', 'agcaag', 'gcaagc', 'caagct', 'aagctc', 'agctca', 'gctcat', 'ctcatg', 'tcatgg', 'catggt', 'atggtc', 'tggtcc', 'ggtcct', 'gtccta', 'tcctac', 'cctaca', 'ctacat', 'tacatt', 'acattg', 'cattgt', 'attgtg', 'ttgtgg', 'tgtgga', 'gtggaa', 'tggaaa', 'ggaaac', 'gaaaca', 'aaacat', 'aacatc', 'acatct', 'catcta', 'atctag', 'tctagt', 'ctagtt', 'tagttc', 'agttca', 'gttcag', 'ttcaga', 'tcagac', 'cagaca', 'agacaa', 'gacaat', 'acaatg', 'caatgg', 'aatgga', 'atggaa', 'tggaac', 'ggaacg', 'gaacgt', 'aacgtg', 'acgtgt', 'cgtgtt', 'gtgtta', 'tgttac', 'gttacc', 'ttaccc', 'taccca', 'acccag', 'cccagg', 'ccagga', 'caggag', 'aggaga', 'ggagat', 'gagatt', 'agattt', 'gatttc', 'atttca', 'tttcat', 'ttcatc', 'tcatca', 'catcaa', 'atcaat', 'tcaatt', 'caatta', 'aattat', 'attatg', 'ttatga', 'tatgag', 'atgagg', 'tgagga', 'gaggag', 'aggagc', 'ggagct', 'gagcta', 'agctaa', 'gctaag', 'ctaaga', 'taagag', 'aagaga', 'agagag', 'gagagc', 'agagca', 'gagcaa', 'agcaat', 'gcaatt', 'caattg', 'aattga', 'attgag', 'ttgagc', 'tgagct', 'gagctc', 'agctca', 'gctcag', 'ctcagt', 'tcagtg', 'cagtgt', 'agtgtc', 'gtgtca', 'tgtcat', 'gtcatc', 'tcatca', 'catcat', 'atcatt', 'tcattt', 'catttg', 'atttga', 'tttgaa', 'ttgaaa', 'tgaaag', 'gaaagg', 'aaaggt', 'aaggtt', 'aggttt', 'ggtttg', 'gtttga', 'tttgag', 'ttgaga', 'tgagat', 'gagata', 'agatat', 'gatatt', 'atattc', 'tattcc', 'attccc', 'ttcccc', 'tcccca', 'ccccaa', 'cccaag', 'ccaaga', 'caagac', 'aagaca', 'agacaa', 'gacaag', 'acaagt', 'caagtt', 'aagttc', 'agttca', 'gttcat', 'ttcatg', 'tcatgg', 'catggc', 'atggcc', 'tggccc', 'ggccca', 'gcccaa', 'cccaat', 'ccaatc', 'caatca', 'aatcat', 'atcatg', 'tcatga', 'catgac', 'atgact', 'tgactc', 'gactcg', 'actcga', 'ctcgaa', 'tcgaac', 'cgaaca', 'gaacaa', 'aacaaa', 'acaaag', 'caaagg', 'aaaggt', 'aaggtg', 'aggtgt', 'ggtgta', 'gtgtaa', 'tgtaac', 'gtaacg', 'taacgg', 'aacggc', 'acggca', 'cggcag', 'ggcagc', 'gcagca', 'cagcat', 'agcatg', 'gcatgt', 'catgtc', 'atgtcc', 'tgtcct', 'gtcctc', 'tcctca', 'cctcat', 'ctcatg', 'tcatgc', 'catgct', 'atgctg', 'tgctgg', 'gctgga', 'ctggag', 'tggagc', 'ggagca', 'gagcaa', 'agcaaa', 'gcaaaa', 'caaaaa', 'aaaaag', 'aaaagc', 'aaagct', 'aagctt', 'agcttc', 'gcttct', 'cttcta', 'ttctac', 'tctaca', 'ctacaa', 'tacaaa', 'acaaaa', 'caaaaa', 'aaaaat', 'aaaatt', 'aaattt', 'aattta', 'atttaa', 'tttaat', 'ttaata', 'taatat', 'aatatg', 'atatgg', 'tatggc', 'atggct', 'tggcta', 'ggctag', 'gctagt', 'ctagtt', 'tagtta', 'agttaa', 'gttaaa', 'ttaaaa', 'taaaaa', 'aaaaaa', 'aaaaag', 'aaaagg', 'aaagga', 'aaggaa', 'aggaaa', 'ggaaat', 'gaaatt', 'aaattc', 'aattca', 'attcat', 'ttcata', 'tcatac', 'catacc', 'ataccc', 'taccca', 'acccaa', 'cccaaa', 'ccaaag', 'caaagc', 'aaagct', 'aagctc', 'agctca', 'gctcag', 'ctcagc', 'tcagca', 'cagcaa', 'agcaaa', 'gcaaat', 'caaatc', 'aaatcc', 'aatcct', 'atccta', 'tcctac', 'cctaca', 'ctacat', 'tacatt', 'acatta', 'cattaa', 'attaat', 'ttaatg', 'taatga', 'aatgat', 'atgata', 'tgataa', 'gataaa', 'ataaag', 'taaagg', 'aaaggg', 'aaggga', 'agggaa', 'gggaaa', 'ggaaag', 'gaaaga', 'aaagaa', 'aagaag', 'agaagt', 'gaagtc', 'aagtcc', 'agtcct', 'gtcctc', 'tcctcg', 'cctcgt', 'ctcgtg', 'tcgtgc', 'cgtgct', 'gtgcta', 'tgctat', 'gctatg', 'ctatgg', 'tatggg', 'atgggg', 'tggggc', 'ggggca', 'gggcat', 'ggcatt', 'gcattc', 'cattca', 'attcac', 'ttcacc', 'tcacca', 'caccat', 'accatc', 'ccatcc', 'catcca', 'atccat', 'tccatc', 'ccatct', 'catcta', 'atctac', 'tctact', 'ctacta', 'tactac', 'actact', 'ctactg', 'tactgc', 'actgct', 'ctgctg', 'tgctga', 'gctgac', 'ctgacc', 'tgacca', 'gaccaa', 'accaac', 'ccaaca', 'caacaa', 'aacaaa', 'acaaag', 'caaagt', 'aaagtc', 'aagtct', 'agtctc', 'gtctct', 'tctcta', 'ctctat', 'tctatc', 'ctatca', 'tatcag', 'atcaga', 'tcagaa', 'cagaat', 'agaatg', 'gaatgc', 'aatgca', 'atgcag', 'tgcaga', 'gcagat', 'cagatg', 'agatgc', 'gatgca', 'atgcat', 'tgcata', 'gcatat', 'catatg', 'atatgt', 'tatgtt', 'atgttt', 'tgtttt', 'gttttt', 'tttttg', 'ttttgt', 'tttgtg', 'ttgtgg', 'tgtggg', 'gtgggg', 'tgggga', 'ggggac', 'gggaca', 'ggacat', 'gacatc', 'acatca', 'catcaa', 'atcaag', 'tcaaga', 'caagat', 'aagata', 'agatac', 'gataca', 'atacag', 'tacagc', 'acagca', 'cagcaa', 'agcaag', 'gcaaga', 'caagaa', 'aagaag', 'agaagt', 'gaagtt', 'aagttc', 'agttca', 'gttcaa', 'ttcaag', 'tcaagc', 'caagcc', 'aagccg', 'agccgg', 'gccgga', 'ccggaa', 'cggaaa', 'ggaaat', 'gaaata', 'aaatag', 'aatagc', 'atagca', 'tagcaa', 'agcaat', 'gcaata', 'caataa', 'aataag', 'ataaga', 'taagac', 'aagacc', 'agaccc', 'gaccca', 'acccaa', 'cccaaa', 'ccaaag', 'caaagt', 'aaagtg', 'aagtga', 'agtgag', 'gtgagg', 'tgaggg', 'gaggga', 'agggat', 'gggatc', 'ggatca', 'gatcaa', 'atcaag', 'tcaaga', 'caagaa', 'aagaag', 'agaagg', 'gaaggg', 'aaggga', 'agggag', 'gggaga', 'ggagaa', 'gagaat', 'agaatg', 'gaatga', 'aatgaa', 'atgaac', 'tgaact', 'gaacta', 'aactat', 'actatt', 'ctatta', 'tattac', 'attact', 'ttactg', 'tactgg', 'actgga', 'ctggac', 'tggaca', 'ggacac', 'gacact', 'acacta', 'cactag', 'actagt', 'ctagta', 'tagtag', 'agtaga', 'gtagag', 'tagagc', 'agagcc', 'gagccg', 'agccgg', 'gccggg', 'ccggga', 'cgggag', 'gggaga', 'ggagac', 'gagaca', 'agacaa', 'gacaaa', 'acaaaa', 'caaaat', 'aaaata', 'aaataa', 'aataac', 'ataaca', 'taacat', 'aacatt', 'acattc', 'cattcg', 'attcga', 'ttcgaa', 'tcgaag', 'cgaagc', 'gaagca', 'aagcaa', 'agcaac', 'gcaact', 'caactg', 'aactgg', 'actgga', 'ctggaa', 'tggaaa', 'ggaaat', 'gaaatc', 'aaatct', 'aatcta', 'atctag', 'tctagt', 'ctagtg', 'tagtgg', 'agtggt', 'gtggta', 'tggtac', 'ggtacc', 'gtaccg', 'taccga', 'accgag', 'ccgaga', 'cgagat', 'gagata', 'agatat', 'gatatg', 'atatgc', 'tatgca', 'atgcat', 'tgcatt', 'gcattc', 'cattcg', 'attcgc', 'ttcgca', 'tcgcaa', 'cgcaat', 'gcaatg', 'caatgg', 'aatgga', 'atggaa', 'tggaaa', 'ggaaag', 'gaaaga', 'aaagaa', 'aagaaa', 'agaaat', 'gaaatg', 'aaatgc', 'aatgct', 'atgctg', 'tgctgg', 'gctgga', 'ctggat', 'tggatc', 'ggatct', 'gatctg', 'atctgg', 'tctggt', 'ctggta', 'tggtat', 'ggtatt', 'gtatta', 'tattat', 'attatc', 'ttatca', 'tatcat', 'atcatt', 'tcattt', 'catttc', 'atttca', 'tttcag', 'ttcaga', 'tcagat', 'cagata', 'agatac', 'gataca', 'atacac', 'tacacc', 'acacca', 'caccag', 'accagt', 'ccagtc', 'cagtcc', 'agtcca', 'gtccac', 'tccacg', 'ccacga', 'cacgat', 'acgatt', 'cgattg', 'gattgc', 'attgca', 'ttgcaa', 'tgcaat', 'gcaata', 'caatac', 'aataca', 'atacaa', 'tacaac', 'acaact', 'caactt', 'aacttg', 'acttgt', 'cttgtc', 'ttgtca', 'tgtcag', 'gtcaga', 'tcagac', 'cagaca', 'agacac', 'gacacc', 'acaccc', 'caccca', 'acccaa', 'cccaag', 'ccaagg', 'caaggg', 'aagggt', 'agggtg', 'gggtgc', 'ggtgct', 'gtgcta', 'tgctat', 'gctata', 'ctataa', 'tataaa', 'ataaac', 'taaaca', 'aaacac', 'aacacc', 'acacca', 'caccag', 'accagc', 'ccagcc', 'cagcct', 'agcctc', 'gcctcc', 'cctccc', 'ctccca', 'tcccat', 'cccatt', 'ccattt', 'catttc', 'atttca', 'tttcag', 'ttcaga', 'tcagaa', 'cagaat', 'agaata', 'gaatat', 'aatata', 'atatac', 'tataca', 'atacat', 'tacatc', 'acatcc', 'catccg', 'atccga', 'tccgat', 'ccgatc', 'cgatca', 'gatcac', 'atcaca', 'tcacaa', 'cacaat', 'acaatt', 'caattg', 'aattgg', 'attgga', 'ttggaa', 'tggaaa', 'ggaaaa', 'gaaaat', 'aaaatg', 'aaatgt', 'aatgtc', 'atgtcc', 'tgtcca', 'gtccaa', 'tccaaa', 'ccaaaa', 'caaaat', 'aaaata', 'aaatat', 'aatatg', 'atatgt', 'tatgta', 'atgtaa', 'tgtaaa', 'gtaaaa', 'taaaaa', 'aaaaag', 'aaaagc', 'aaagca', 'aagcac', 'agcaca', 'gcacaa', 'cacaaa', 'acaaaa', 'caaaat', 'aaaatt', 'aaattg', 'aattga', 'attgag', 'ttgagg', 'tgaggc', 'gaggct', 'aggctg', 'ggctgg', 'gctggc', 'ctggcc', 'tggcca', 'ggccac', 'gccaca', 'ccacag', 'cacagg', 'acagga', 'caggat', 'aggatt', 'ggattg', 'gattga', 'attgag', 'ttgagg', 'tgagga', 'gaggaa', 'aggaat', 'ggaatg', 'gaatgt', 'aatgtc', 'atgtcc', 'tgtccc', 'gtcccg', 'tcccgt', 'cccgtc', 'ccgtct', 'cgtcta', 'gtctat', 'tctatt', 'ctattc', 'tattca', 'attcaa', 'ttcaat', 'tcaatc', 'caatct', 'aatcta', 'atctag', 'tctaga']}\n"
     ]
    }
   ],
   "source": [
    "row_index = 1  # Replace with the desired row index\n",
    "kmer_breakdown = kmer_dict[row_index]\n",
    "print(kmer_breakdown)"
   ]
  },
  {
   "cell_type": "markdown",
   "metadata": {},
   "source": [
    "#### 2.1.1 One-Hot Encoding using chunking to optimize memory usage"
   ]
  },
  {
   "cell_type": "code",
   "execution_count": 47,
   "metadata": {},
   "outputs": [],
   "source": [
    "# Define chunk size (adjust as needed)\n",
    "chunk_size = 100"
   ]
  },
  {
   "cell_type": "code",
   "execution_count": 48,
   "metadata": {},
   "outputs": [],
   "source": [
    "def process_chunk(chunk_dict):\n",
    "    \"\"\"\n",
    "    Processes a chunk of data from the kmer_dict and returns one-hot encoded features.\n",
    "    \"\"\"\n",
    "    chunk_ha1_features = []\n",
    "\n",
    "    # Get unique k-mers across all sequences in the chunk\n",
    "    # Only run this code if 'ohe' attribute does not exist. This is to ensure that the one-hot encoder is only fit once.\n",
    "    # So, for the test data, 'ohe' already defined, this code will not run (will not do a fit on a new OHE) and go directly to the transformation step below\n",
    "    if not hasattr(process_chunk, 'ohe'):\n",
    "        all_kmers = set()\n",
    "        for kmer_dict_row in chunk_dict.values():\n",
    "            ha1_kmers = kmer_dict_row[\"HA1\"]\n",
    "            all_kmers.update(ha1_kmers)\n",
    "\n",
    "        # Create one-hot encoder (only fit on the first chunk for consistent categories)\n",
    "        process_chunk.ohe = OneHotEncoder(sparse_output=False, handle_unknown='ignore')\n",
    "        process_chunk.ohe.fit([[kmer] for kmer in list(all_kmers)])  # Fit on unique kmers\n",
    "\n",
    "    # Transform each sequence into a one-hot encoded vector\n",
    "    for kmer_dict_row in chunk_dict.values():\n",
    "        ha1_kmers = kmer_dict_row[\"HA1\"]\n",
    "        kmer_indices = process_chunk.ohe.transform([[kmer] for kmer in ha1_kmers]).sum(axis=0)\n",
    "        chunk_ha1_features.append(kmer_indices)\n",
    "\n",
    "    return chunk_ha1_features"
   ]
  },
  {
   "cell_type": "code",
   "execution_count": 49,
   "metadata": {},
   "outputs": [],
   "source": [
    "# Iterate through kmer_dict in chunks\n",
    "ha1_features = []\n",
    "for i in range(0, len(kmer_dict), chunk_size):\n",
    "  # Get a chunk of data\n",
    "  chunk_dict = dict(list(kmer_dict.items())[i:i + chunk_size])\n",
    "\n",
    "  # Process features for the chunk\n",
    "  chunk_ha1_features = process_chunk(chunk_dict)\n",
    "\n",
    "  # Append features from the chunk\n",
    "  ha1_features.extend(chunk_ha1_features)"
   ]
  },
  {
   "cell_type": "markdown",
   "metadata": {},
   "source": [
    "### 2.3 Define X and y and Train Test Split"
   ]
  },
  {
   "cell_type": "code",
   "execution_count": 50,
   "metadata": {},
   "outputs": [],
   "source": [
    "# OHE\n",
    "# Convert list of lists to numpy array for X (training data)\n",
    "X = np.array(ha1_features)"
   ]
  },
  {
   "cell_type": "code",
   "execution_count": 51,
   "metadata": {},
   "outputs": [
    {
     "data": {
      "text/html": [
       "<style>#sk-container-id-1 {\n",
       "  /* Definition of color scheme common for light and dark mode */\n",
       "  --sklearn-color-text: black;\n",
       "  --sklearn-color-line: gray;\n",
       "  /* Definition of color scheme for unfitted estimators */\n",
       "  --sklearn-color-unfitted-level-0: #fff5e6;\n",
       "  --sklearn-color-unfitted-level-1: #f6e4d2;\n",
       "  --sklearn-color-unfitted-level-2: #ffe0b3;\n",
       "  --sklearn-color-unfitted-level-3: chocolate;\n",
       "  /* Definition of color scheme for fitted estimators */\n",
       "  --sklearn-color-fitted-level-0: #f0f8ff;\n",
       "  --sklearn-color-fitted-level-1: #d4ebff;\n",
       "  --sklearn-color-fitted-level-2: #b3dbfd;\n",
       "  --sklearn-color-fitted-level-3: cornflowerblue;\n",
       "\n",
       "  /* Specific color for light theme */\n",
       "  --sklearn-color-text-on-default-background: var(--sg-text-color, var(--theme-code-foreground, var(--jp-content-font-color1, black)));\n",
       "  --sklearn-color-background: var(--sg-background-color, var(--theme-background, var(--jp-layout-color0, white)));\n",
       "  --sklearn-color-border-box: var(--sg-text-color, var(--theme-code-foreground, var(--jp-content-font-color1, black)));\n",
       "  --sklearn-color-icon: #696969;\n",
       "\n",
       "  @media (prefers-color-scheme: dark) {\n",
       "    /* Redefinition of color scheme for dark theme */\n",
       "    --sklearn-color-text-on-default-background: var(--sg-text-color, var(--theme-code-foreground, var(--jp-content-font-color1, white)));\n",
       "    --sklearn-color-background: var(--sg-background-color, var(--theme-background, var(--jp-layout-color0, #111)));\n",
       "    --sklearn-color-border-box: var(--sg-text-color, var(--theme-code-foreground, var(--jp-content-font-color1, white)));\n",
       "    --sklearn-color-icon: #878787;\n",
       "  }\n",
       "}\n",
       "\n",
       "#sk-container-id-1 {\n",
       "  color: var(--sklearn-color-text);\n",
       "}\n",
       "\n",
       "#sk-container-id-1 pre {\n",
       "  padding: 0;\n",
       "}\n",
       "\n",
       "#sk-container-id-1 input.sk-hidden--visually {\n",
       "  border: 0;\n",
       "  clip: rect(1px 1px 1px 1px);\n",
       "  clip: rect(1px, 1px, 1px, 1px);\n",
       "  height: 1px;\n",
       "  margin: -1px;\n",
       "  overflow: hidden;\n",
       "  padding: 0;\n",
       "  position: absolute;\n",
       "  width: 1px;\n",
       "}\n",
       "\n",
       "#sk-container-id-1 div.sk-dashed-wrapped {\n",
       "  border: 1px dashed var(--sklearn-color-line);\n",
       "  margin: 0 0.4em 0.5em 0.4em;\n",
       "  box-sizing: border-box;\n",
       "  padding-bottom: 0.4em;\n",
       "  background-color: var(--sklearn-color-background);\n",
       "}\n",
       "\n",
       "#sk-container-id-1 div.sk-container {\n",
       "  /* jupyter's `normalize.less` sets `[hidden] { display: none; }`\n",
       "     but bootstrap.min.css set `[hidden] { display: none !important; }`\n",
       "     so we also need the `!important` here to be able to override the\n",
       "     default hidden behavior on the sphinx rendered scikit-learn.org.\n",
       "     See: https://github.com/scikit-learn/scikit-learn/issues/21755 */\n",
       "  display: inline-block !important;\n",
       "  position: relative;\n",
       "}\n",
       "\n",
       "#sk-container-id-1 div.sk-text-repr-fallback {\n",
       "  display: none;\n",
       "}\n",
       "\n",
       "div.sk-parallel-item,\n",
       "div.sk-serial,\n",
       "div.sk-item {\n",
       "  /* draw centered vertical line to link estimators */\n",
       "  background-image: linear-gradient(var(--sklearn-color-text-on-default-background), var(--sklearn-color-text-on-default-background));\n",
       "  background-size: 2px 100%;\n",
       "  background-repeat: no-repeat;\n",
       "  background-position: center center;\n",
       "}\n",
       "\n",
       "/* Parallel-specific style estimator block */\n",
       "\n",
       "#sk-container-id-1 div.sk-parallel-item::after {\n",
       "  content: \"\";\n",
       "  width: 100%;\n",
       "  border-bottom: 2px solid var(--sklearn-color-text-on-default-background);\n",
       "  flex-grow: 1;\n",
       "}\n",
       "\n",
       "#sk-container-id-1 div.sk-parallel {\n",
       "  display: flex;\n",
       "  align-items: stretch;\n",
       "  justify-content: center;\n",
       "  background-color: var(--sklearn-color-background);\n",
       "  position: relative;\n",
       "}\n",
       "\n",
       "#sk-container-id-1 div.sk-parallel-item {\n",
       "  display: flex;\n",
       "  flex-direction: column;\n",
       "}\n",
       "\n",
       "#sk-container-id-1 div.sk-parallel-item:first-child::after {\n",
       "  align-self: flex-end;\n",
       "  width: 50%;\n",
       "}\n",
       "\n",
       "#sk-container-id-1 div.sk-parallel-item:last-child::after {\n",
       "  align-self: flex-start;\n",
       "  width: 50%;\n",
       "}\n",
       "\n",
       "#sk-container-id-1 div.sk-parallel-item:only-child::after {\n",
       "  width: 0;\n",
       "}\n",
       "\n",
       "/* Serial-specific style estimator block */\n",
       "\n",
       "#sk-container-id-1 div.sk-serial {\n",
       "  display: flex;\n",
       "  flex-direction: column;\n",
       "  align-items: center;\n",
       "  background-color: var(--sklearn-color-background);\n",
       "  padding-right: 1em;\n",
       "  padding-left: 1em;\n",
       "}\n",
       "\n",
       "\n",
       "/* Toggleable style: style used for estimator/Pipeline/ColumnTransformer box that is\n",
       "clickable and can be expanded/collapsed.\n",
       "- Pipeline and ColumnTransformer use this feature and define the default style\n",
       "- Estimators will overwrite some part of the style using the `sk-estimator` class\n",
       "*/\n",
       "\n",
       "/* Pipeline and ColumnTransformer style (default) */\n",
       "\n",
       "#sk-container-id-1 div.sk-toggleable {\n",
       "  /* Default theme specific background. It is overwritten whether we have a\n",
       "  specific estimator or a Pipeline/ColumnTransformer */\n",
       "  background-color: var(--sklearn-color-background);\n",
       "}\n",
       "\n",
       "/* Toggleable label */\n",
       "#sk-container-id-1 label.sk-toggleable__label {\n",
       "  cursor: pointer;\n",
       "  display: block;\n",
       "  width: 100%;\n",
       "  margin-bottom: 0;\n",
       "  padding: 0.5em;\n",
       "  box-sizing: border-box;\n",
       "  text-align: center;\n",
       "}\n",
       "\n",
       "#sk-container-id-1 label.sk-toggleable__label-arrow:before {\n",
       "  /* Arrow on the left of the label */\n",
       "  content: \"▸\";\n",
       "  float: left;\n",
       "  margin-right: 0.25em;\n",
       "  color: var(--sklearn-color-icon);\n",
       "}\n",
       "\n",
       "#sk-container-id-1 label.sk-toggleable__label-arrow:hover:before {\n",
       "  color: var(--sklearn-color-text);\n",
       "}\n",
       "\n",
       "/* Toggleable content - dropdown */\n",
       "\n",
       "#sk-container-id-1 div.sk-toggleable__content {\n",
       "  max-height: 0;\n",
       "  max-width: 0;\n",
       "  overflow: hidden;\n",
       "  text-align: left;\n",
       "  /* unfitted */\n",
       "  background-color: var(--sklearn-color-unfitted-level-0);\n",
       "}\n",
       "\n",
       "#sk-container-id-1 div.sk-toggleable__content.fitted {\n",
       "  /* fitted */\n",
       "  background-color: var(--sklearn-color-fitted-level-0);\n",
       "}\n",
       "\n",
       "#sk-container-id-1 div.sk-toggleable__content pre {\n",
       "  margin: 0.2em;\n",
       "  border-radius: 0.25em;\n",
       "  color: var(--sklearn-color-text);\n",
       "  /* unfitted */\n",
       "  background-color: var(--sklearn-color-unfitted-level-0);\n",
       "}\n",
       "\n",
       "#sk-container-id-1 div.sk-toggleable__content.fitted pre {\n",
       "  /* unfitted */\n",
       "  background-color: var(--sklearn-color-fitted-level-0);\n",
       "}\n",
       "\n",
       "#sk-container-id-1 input.sk-toggleable__control:checked~div.sk-toggleable__content {\n",
       "  /* Expand drop-down */\n",
       "  max-height: 200px;\n",
       "  max-width: 100%;\n",
       "  overflow: auto;\n",
       "}\n",
       "\n",
       "#sk-container-id-1 input.sk-toggleable__control:checked~label.sk-toggleable__label-arrow:before {\n",
       "  content: \"▾\";\n",
       "}\n",
       "\n",
       "/* Pipeline/ColumnTransformer-specific style */\n",
       "\n",
       "#sk-container-id-1 div.sk-label input.sk-toggleable__control:checked~label.sk-toggleable__label {\n",
       "  color: var(--sklearn-color-text);\n",
       "  background-color: var(--sklearn-color-unfitted-level-2);\n",
       "}\n",
       "\n",
       "#sk-container-id-1 div.sk-label.fitted input.sk-toggleable__control:checked~label.sk-toggleable__label {\n",
       "  background-color: var(--sklearn-color-fitted-level-2);\n",
       "}\n",
       "\n",
       "/* Estimator-specific style */\n",
       "\n",
       "/* Colorize estimator box */\n",
       "#sk-container-id-1 div.sk-estimator input.sk-toggleable__control:checked~label.sk-toggleable__label {\n",
       "  /* unfitted */\n",
       "  background-color: var(--sklearn-color-unfitted-level-2);\n",
       "}\n",
       "\n",
       "#sk-container-id-1 div.sk-estimator.fitted input.sk-toggleable__control:checked~label.sk-toggleable__label {\n",
       "  /* fitted */\n",
       "  background-color: var(--sklearn-color-fitted-level-2);\n",
       "}\n",
       "\n",
       "#sk-container-id-1 div.sk-label label.sk-toggleable__label,\n",
       "#sk-container-id-1 div.sk-label label {\n",
       "  /* The background is the default theme color */\n",
       "  color: var(--sklearn-color-text-on-default-background);\n",
       "}\n",
       "\n",
       "/* On hover, darken the color of the background */\n",
       "#sk-container-id-1 div.sk-label:hover label.sk-toggleable__label {\n",
       "  color: var(--sklearn-color-text);\n",
       "  background-color: var(--sklearn-color-unfitted-level-2);\n",
       "}\n",
       "\n",
       "/* Label box, darken color on hover, fitted */\n",
       "#sk-container-id-1 div.sk-label.fitted:hover label.sk-toggleable__label.fitted {\n",
       "  color: var(--sklearn-color-text);\n",
       "  background-color: var(--sklearn-color-fitted-level-2);\n",
       "}\n",
       "\n",
       "/* Estimator label */\n",
       "\n",
       "#sk-container-id-1 div.sk-label label {\n",
       "  font-family: monospace;\n",
       "  font-weight: bold;\n",
       "  display: inline-block;\n",
       "  line-height: 1.2em;\n",
       "}\n",
       "\n",
       "#sk-container-id-1 div.sk-label-container {\n",
       "  text-align: center;\n",
       "}\n",
       "\n",
       "/* Estimator-specific */\n",
       "#sk-container-id-1 div.sk-estimator {\n",
       "  font-family: monospace;\n",
       "  border: 1px dotted var(--sklearn-color-border-box);\n",
       "  border-radius: 0.25em;\n",
       "  box-sizing: border-box;\n",
       "  margin-bottom: 0.5em;\n",
       "  /* unfitted */\n",
       "  background-color: var(--sklearn-color-unfitted-level-0);\n",
       "}\n",
       "\n",
       "#sk-container-id-1 div.sk-estimator.fitted {\n",
       "  /* fitted */\n",
       "  background-color: var(--sklearn-color-fitted-level-0);\n",
       "}\n",
       "\n",
       "/* on hover */\n",
       "#sk-container-id-1 div.sk-estimator:hover {\n",
       "  /* unfitted */\n",
       "  background-color: var(--sklearn-color-unfitted-level-2);\n",
       "}\n",
       "\n",
       "#sk-container-id-1 div.sk-estimator.fitted:hover {\n",
       "  /* fitted */\n",
       "  background-color: var(--sklearn-color-fitted-level-2);\n",
       "}\n",
       "\n",
       "/* Specification for estimator info (e.g. \"i\" and \"?\") */\n",
       "\n",
       "/* Common style for \"i\" and \"?\" */\n",
       "\n",
       ".sk-estimator-doc-link,\n",
       "a:link.sk-estimator-doc-link,\n",
       "a:visited.sk-estimator-doc-link {\n",
       "  float: right;\n",
       "  font-size: smaller;\n",
       "  line-height: 1em;\n",
       "  font-family: monospace;\n",
       "  background-color: var(--sklearn-color-background);\n",
       "  border-radius: 1em;\n",
       "  height: 1em;\n",
       "  width: 1em;\n",
       "  text-decoration: none !important;\n",
       "  margin-left: 1ex;\n",
       "  /* unfitted */\n",
       "  border: var(--sklearn-color-unfitted-level-1) 1pt solid;\n",
       "  color: var(--sklearn-color-unfitted-level-1);\n",
       "}\n",
       "\n",
       ".sk-estimator-doc-link.fitted,\n",
       "a:link.sk-estimator-doc-link.fitted,\n",
       "a:visited.sk-estimator-doc-link.fitted {\n",
       "  /* fitted */\n",
       "  border: var(--sklearn-color-fitted-level-1) 1pt solid;\n",
       "  color: var(--sklearn-color-fitted-level-1);\n",
       "}\n",
       "\n",
       "/* On hover */\n",
       "div.sk-estimator:hover .sk-estimator-doc-link:hover,\n",
       ".sk-estimator-doc-link:hover,\n",
       "div.sk-label-container:hover .sk-estimator-doc-link:hover,\n",
       ".sk-estimator-doc-link:hover {\n",
       "  /* unfitted */\n",
       "  background-color: var(--sklearn-color-unfitted-level-3);\n",
       "  color: var(--sklearn-color-background);\n",
       "  text-decoration: none;\n",
       "}\n",
       "\n",
       "div.sk-estimator.fitted:hover .sk-estimator-doc-link.fitted:hover,\n",
       ".sk-estimator-doc-link.fitted:hover,\n",
       "div.sk-label-container:hover .sk-estimator-doc-link.fitted:hover,\n",
       ".sk-estimator-doc-link.fitted:hover {\n",
       "  /* fitted */\n",
       "  background-color: var(--sklearn-color-fitted-level-3);\n",
       "  color: var(--sklearn-color-background);\n",
       "  text-decoration: none;\n",
       "}\n",
       "\n",
       "/* Span, style for the box shown on hovering the info icon */\n",
       ".sk-estimator-doc-link span {\n",
       "  display: none;\n",
       "  z-index: 9999;\n",
       "  position: relative;\n",
       "  font-weight: normal;\n",
       "  right: .2ex;\n",
       "  padding: .5ex;\n",
       "  margin: .5ex;\n",
       "  width: min-content;\n",
       "  min-width: 20ex;\n",
       "  max-width: 50ex;\n",
       "  color: var(--sklearn-color-text);\n",
       "  box-shadow: 2pt 2pt 4pt #999;\n",
       "  /* unfitted */\n",
       "  background: var(--sklearn-color-unfitted-level-0);\n",
       "  border: .5pt solid var(--sklearn-color-unfitted-level-3);\n",
       "}\n",
       "\n",
       ".sk-estimator-doc-link.fitted span {\n",
       "  /* fitted */\n",
       "  background: var(--sklearn-color-fitted-level-0);\n",
       "  border: var(--sklearn-color-fitted-level-3);\n",
       "}\n",
       "\n",
       ".sk-estimator-doc-link:hover span {\n",
       "  display: block;\n",
       "}\n",
       "\n",
       "/* \"?\"-specific style due to the `<a>` HTML tag */\n",
       "\n",
       "#sk-container-id-1 a.estimator_doc_link {\n",
       "  float: right;\n",
       "  font-size: 1rem;\n",
       "  line-height: 1em;\n",
       "  font-family: monospace;\n",
       "  background-color: var(--sklearn-color-background);\n",
       "  border-radius: 1rem;\n",
       "  height: 1rem;\n",
       "  width: 1rem;\n",
       "  text-decoration: none;\n",
       "  /* unfitted */\n",
       "  color: var(--sklearn-color-unfitted-level-1);\n",
       "  border: var(--sklearn-color-unfitted-level-1) 1pt solid;\n",
       "}\n",
       "\n",
       "#sk-container-id-1 a.estimator_doc_link.fitted {\n",
       "  /* fitted */\n",
       "  border: var(--sklearn-color-fitted-level-1) 1pt solid;\n",
       "  color: var(--sklearn-color-fitted-level-1);\n",
       "}\n",
       "\n",
       "/* On hover */\n",
       "#sk-container-id-1 a.estimator_doc_link:hover {\n",
       "  /* unfitted */\n",
       "  background-color: var(--sklearn-color-unfitted-level-3);\n",
       "  color: var(--sklearn-color-background);\n",
       "  text-decoration: none;\n",
       "}\n",
       "\n",
       "#sk-container-id-1 a.estimator_doc_link.fitted:hover {\n",
       "  /* fitted */\n",
       "  background-color: var(--sklearn-color-fitted-level-3);\n",
       "}\n",
       "</style><div id=\"sk-container-id-1\" class=\"sk-top-container\"><div class=\"sk-text-repr-fallback\"><pre>LabelEncoder()</pre><b>In a Jupyter environment, please rerun this cell to show the HTML representation or trust the notebook. <br />On GitHub, the HTML representation is unable to render, please try loading this page with nbviewer.org.</b></div><div class=\"sk-container\" hidden><div class=\"sk-item\"><div class=\"sk-estimator fitted sk-toggleable\"><input class=\"sk-toggleable__control sk-hidden--visually\" id=\"sk-estimator-id-1\" type=\"checkbox\" checked><label for=\"sk-estimator-id-1\" class=\"sk-toggleable__label fitted sk-toggleable__label-arrow fitted\">&nbsp;&nbsp;LabelEncoder<a class=\"sk-estimator-doc-link fitted\" rel=\"noreferrer\" target=\"_blank\" href=\"https://scikit-learn.org/1.5/modules/generated/sklearn.preprocessing.LabelEncoder.html\">?<span>Documentation for LabelEncoder</span></a><span class=\"sk-estimator-doc-link fitted\">i<span>Fitted</span></span></label><div class=\"sk-toggleable__content fitted\"><pre>LabelEncoder()</pre></div> </div></div></div></div>"
      ],
      "text/plain": [
       "LabelEncoder()"
      ]
     },
     "execution_count": 51,
     "metadata": {},
     "output_type": "execute_result"
    }
   ],
   "source": [
    "y = []\n",
    "le = LabelEncoder()\n",
    "\n",
    "# Fit the LabelEncoder to all unique classes (call only once)\n",
    "le.fit(df['Clade'])\n",
    "\n",
    "for index in df.index:\n",
    "  clade_label = le.transform(np.array([df.loc[index, \"Clade\"]]))[0]\n",
    "  y.append(clade_label)"
   ]
  },
  {
   "cell_type": "code",
   "execution_count": 52,
   "metadata": {},
   "outputs": [],
   "source": [
    "# Train-test split (80% training, 20% testing)\n",
    "X_train, X_test, y_train, y_test = train_test_split(X, y, test_size=0.2, random_state=42)  # Set random_state for reproducibility"
   ]
  },
  {
   "cell_type": "markdown",
   "metadata": {},
   "source": [
    "# 3.0 Modelling"
   ]
  },
  {
   "cell_type": "code",
   "execution_count": 53,
   "metadata": {},
   "outputs": [],
   "source": [
    "# # Train a Random Forest model\n",
    "# model = RandomForestClassifier(n_estimators=100, random_state=42)  # You can adjust hyperparameters\n",
    "# model.fit(X_train, y_train) "
   ]
  },
  {
   "cell_type": "code",
   "execution_count": 54,
   "metadata": {},
   "outputs": [
    {
     "data": {
      "text/html": [
       "<style>#sk-container-id-2 {\n",
       "  /* Definition of color scheme common for light and dark mode */\n",
       "  --sklearn-color-text: black;\n",
       "  --sklearn-color-line: gray;\n",
       "  /* Definition of color scheme for unfitted estimators */\n",
       "  --sklearn-color-unfitted-level-0: #fff5e6;\n",
       "  --sklearn-color-unfitted-level-1: #f6e4d2;\n",
       "  --sklearn-color-unfitted-level-2: #ffe0b3;\n",
       "  --sklearn-color-unfitted-level-3: chocolate;\n",
       "  /* Definition of color scheme for fitted estimators */\n",
       "  --sklearn-color-fitted-level-0: #f0f8ff;\n",
       "  --sklearn-color-fitted-level-1: #d4ebff;\n",
       "  --sklearn-color-fitted-level-2: #b3dbfd;\n",
       "  --sklearn-color-fitted-level-3: cornflowerblue;\n",
       "\n",
       "  /* Specific color for light theme */\n",
       "  --sklearn-color-text-on-default-background: var(--sg-text-color, var(--theme-code-foreground, var(--jp-content-font-color1, black)));\n",
       "  --sklearn-color-background: var(--sg-background-color, var(--theme-background, var(--jp-layout-color0, white)));\n",
       "  --sklearn-color-border-box: var(--sg-text-color, var(--theme-code-foreground, var(--jp-content-font-color1, black)));\n",
       "  --sklearn-color-icon: #696969;\n",
       "\n",
       "  @media (prefers-color-scheme: dark) {\n",
       "    /* Redefinition of color scheme for dark theme */\n",
       "    --sklearn-color-text-on-default-background: var(--sg-text-color, var(--theme-code-foreground, var(--jp-content-font-color1, white)));\n",
       "    --sklearn-color-background: var(--sg-background-color, var(--theme-background, var(--jp-layout-color0, #111)));\n",
       "    --sklearn-color-border-box: var(--sg-text-color, var(--theme-code-foreground, var(--jp-content-font-color1, white)));\n",
       "    --sklearn-color-icon: #878787;\n",
       "  }\n",
       "}\n",
       "\n",
       "#sk-container-id-2 {\n",
       "  color: var(--sklearn-color-text);\n",
       "}\n",
       "\n",
       "#sk-container-id-2 pre {\n",
       "  padding: 0;\n",
       "}\n",
       "\n",
       "#sk-container-id-2 input.sk-hidden--visually {\n",
       "  border: 0;\n",
       "  clip: rect(1px 1px 1px 1px);\n",
       "  clip: rect(1px, 1px, 1px, 1px);\n",
       "  height: 1px;\n",
       "  margin: -1px;\n",
       "  overflow: hidden;\n",
       "  padding: 0;\n",
       "  position: absolute;\n",
       "  width: 1px;\n",
       "}\n",
       "\n",
       "#sk-container-id-2 div.sk-dashed-wrapped {\n",
       "  border: 1px dashed var(--sklearn-color-line);\n",
       "  margin: 0 0.4em 0.5em 0.4em;\n",
       "  box-sizing: border-box;\n",
       "  padding-bottom: 0.4em;\n",
       "  background-color: var(--sklearn-color-background);\n",
       "}\n",
       "\n",
       "#sk-container-id-2 div.sk-container {\n",
       "  /* jupyter's `normalize.less` sets `[hidden] { display: none; }`\n",
       "     but bootstrap.min.css set `[hidden] { display: none !important; }`\n",
       "     so we also need the `!important` here to be able to override the\n",
       "     default hidden behavior on the sphinx rendered scikit-learn.org.\n",
       "     See: https://github.com/scikit-learn/scikit-learn/issues/21755 */\n",
       "  display: inline-block !important;\n",
       "  position: relative;\n",
       "}\n",
       "\n",
       "#sk-container-id-2 div.sk-text-repr-fallback {\n",
       "  display: none;\n",
       "}\n",
       "\n",
       "div.sk-parallel-item,\n",
       "div.sk-serial,\n",
       "div.sk-item {\n",
       "  /* draw centered vertical line to link estimators */\n",
       "  background-image: linear-gradient(var(--sklearn-color-text-on-default-background), var(--sklearn-color-text-on-default-background));\n",
       "  background-size: 2px 100%;\n",
       "  background-repeat: no-repeat;\n",
       "  background-position: center center;\n",
       "}\n",
       "\n",
       "/* Parallel-specific style estimator block */\n",
       "\n",
       "#sk-container-id-2 div.sk-parallel-item::after {\n",
       "  content: \"\";\n",
       "  width: 100%;\n",
       "  border-bottom: 2px solid var(--sklearn-color-text-on-default-background);\n",
       "  flex-grow: 1;\n",
       "}\n",
       "\n",
       "#sk-container-id-2 div.sk-parallel {\n",
       "  display: flex;\n",
       "  align-items: stretch;\n",
       "  justify-content: center;\n",
       "  background-color: var(--sklearn-color-background);\n",
       "  position: relative;\n",
       "}\n",
       "\n",
       "#sk-container-id-2 div.sk-parallel-item {\n",
       "  display: flex;\n",
       "  flex-direction: column;\n",
       "}\n",
       "\n",
       "#sk-container-id-2 div.sk-parallel-item:first-child::after {\n",
       "  align-self: flex-end;\n",
       "  width: 50%;\n",
       "}\n",
       "\n",
       "#sk-container-id-2 div.sk-parallel-item:last-child::after {\n",
       "  align-self: flex-start;\n",
       "  width: 50%;\n",
       "}\n",
       "\n",
       "#sk-container-id-2 div.sk-parallel-item:only-child::after {\n",
       "  width: 0;\n",
       "}\n",
       "\n",
       "/* Serial-specific style estimator block */\n",
       "\n",
       "#sk-container-id-2 div.sk-serial {\n",
       "  display: flex;\n",
       "  flex-direction: column;\n",
       "  align-items: center;\n",
       "  background-color: var(--sklearn-color-background);\n",
       "  padding-right: 1em;\n",
       "  padding-left: 1em;\n",
       "}\n",
       "\n",
       "\n",
       "/* Toggleable style: style used for estimator/Pipeline/ColumnTransformer box that is\n",
       "clickable and can be expanded/collapsed.\n",
       "- Pipeline and ColumnTransformer use this feature and define the default style\n",
       "- Estimators will overwrite some part of the style using the `sk-estimator` class\n",
       "*/\n",
       "\n",
       "/* Pipeline and ColumnTransformer style (default) */\n",
       "\n",
       "#sk-container-id-2 div.sk-toggleable {\n",
       "  /* Default theme specific background. It is overwritten whether we have a\n",
       "  specific estimator or a Pipeline/ColumnTransformer */\n",
       "  background-color: var(--sklearn-color-background);\n",
       "}\n",
       "\n",
       "/* Toggleable label */\n",
       "#sk-container-id-2 label.sk-toggleable__label {\n",
       "  cursor: pointer;\n",
       "  display: block;\n",
       "  width: 100%;\n",
       "  margin-bottom: 0;\n",
       "  padding: 0.5em;\n",
       "  box-sizing: border-box;\n",
       "  text-align: center;\n",
       "}\n",
       "\n",
       "#sk-container-id-2 label.sk-toggleable__label-arrow:before {\n",
       "  /* Arrow on the left of the label */\n",
       "  content: \"▸\";\n",
       "  float: left;\n",
       "  margin-right: 0.25em;\n",
       "  color: var(--sklearn-color-icon);\n",
       "}\n",
       "\n",
       "#sk-container-id-2 label.sk-toggleable__label-arrow:hover:before {\n",
       "  color: var(--sklearn-color-text);\n",
       "}\n",
       "\n",
       "/* Toggleable content - dropdown */\n",
       "\n",
       "#sk-container-id-2 div.sk-toggleable__content {\n",
       "  max-height: 0;\n",
       "  max-width: 0;\n",
       "  overflow: hidden;\n",
       "  text-align: left;\n",
       "  /* unfitted */\n",
       "  background-color: var(--sklearn-color-unfitted-level-0);\n",
       "}\n",
       "\n",
       "#sk-container-id-2 div.sk-toggleable__content.fitted {\n",
       "  /* fitted */\n",
       "  background-color: var(--sklearn-color-fitted-level-0);\n",
       "}\n",
       "\n",
       "#sk-container-id-2 div.sk-toggleable__content pre {\n",
       "  margin: 0.2em;\n",
       "  border-radius: 0.25em;\n",
       "  color: var(--sklearn-color-text);\n",
       "  /* unfitted */\n",
       "  background-color: var(--sklearn-color-unfitted-level-0);\n",
       "}\n",
       "\n",
       "#sk-container-id-2 div.sk-toggleable__content.fitted pre {\n",
       "  /* unfitted */\n",
       "  background-color: var(--sklearn-color-fitted-level-0);\n",
       "}\n",
       "\n",
       "#sk-container-id-2 input.sk-toggleable__control:checked~div.sk-toggleable__content {\n",
       "  /* Expand drop-down */\n",
       "  max-height: 200px;\n",
       "  max-width: 100%;\n",
       "  overflow: auto;\n",
       "}\n",
       "\n",
       "#sk-container-id-2 input.sk-toggleable__control:checked~label.sk-toggleable__label-arrow:before {\n",
       "  content: \"▾\";\n",
       "}\n",
       "\n",
       "/* Pipeline/ColumnTransformer-specific style */\n",
       "\n",
       "#sk-container-id-2 div.sk-label input.sk-toggleable__control:checked~label.sk-toggleable__label {\n",
       "  color: var(--sklearn-color-text);\n",
       "  background-color: var(--sklearn-color-unfitted-level-2);\n",
       "}\n",
       "\n",
       "#sk-container-id-2 div.sk-label.fitted input.sk-toggleable__control:checked~label.sk-toggleable__label {\n",
       "  background-color: var(--sklearn-color-fitted-level-2);\n",
       "}\n",
       "\n",
       "/* Estimator-specific style */\n",
       "\n",
       "/* Colorize estimator box */\n",
       "#sk-container-id-2 div.sk-estimator input.sk-toggleable__control:checked~label.sk-toggleable__label {\n",
       "  /* unfitted */\n",
       "  background-color: var(--sklearn-color-unfitted-level-2);\n",
       "}\n",
       "\n",
       "#sk-container-id-2 div.sk-estimator.fitted input.sk-toggleable__control:checked~label.sk-toggleable__label {\n",
       "  /* fitted */\n",
       "  background-color: var(--sklearn-color-fitted-level-2);\n",
       "}\n",
       "\n",
       "#sk-container-id-2 div.sk-label label.sk-toggleable__label,\n",
       "#sk-container-id-2 div.sk-label label {\n",
       "  /* The background is the default theme color */\n",
       "  color: var(--sklearn-color-text-on-default-background);\n",
       "}\n",
       "\n",
       "/* On hover, darken the color of the background */\n",
       "#sk-container-id-2 div.sk-label:hover label.sk-toggleable__label {\n",
       "  color: var(--sklearn-color-text);\n",
       "  background-color: var(--sklearn-color-unfitted-level-2);\n",
       "}\n",
       "\n",
       "/* Label box, darken color on hover, fitted */\n",
       "#sk-container-id-2 div.sk-label.fitted:hover label.sk-toggleable__label.fitted {\n",
       "  color: var(--sklearn-color-text);\n",
       "  background-color: var(--sklearn-color-fitted-level-2);\n",
       "}\n",
       "\n",
       "/* Estimator label */\n",
       "\n",
       "#sk-container-id-2 div.sk-label label {\n",
       "  font-family: monospace;\n",
       "  font-weight: bold;\n",
       "  display: inline-block;\n",
       "  line-height: 1.2em;\n",
       "}\n",
       "\n",
       "#sk-container-id-2 div.sk-label-container {\n",
       "  text-align: center;\n",
       "}\n",
       "\n",
       "/* Estimator-specific */\n",
       "#sk-container-id-2 div.sk-estimator {\n",
       "  font-family: monospace;\n",
       "  border: 1px dotted var(--sklearn-color-border-box);\n",
       "  border-radius: 0.25em;\n",
       "  box-sizing: border-box;\n",
       "  margin-bottom: 0.5em;\n",
       "  /* unfitted */\n",
       "  background-color: var(--sklearn-color-unfitted-level-0);\n",
       "}\n",
       "\n",
       "#sk-container-id-2 div.sk-estimator.fitted {\n",
       "  /* fitted */\n",
       "  background-color: var(--sklearn-color-fitted-level-0);\n",
       "}\n",
       "\n",
       "/* on hover */\n",
       "#sk-container-id-2 div.sk-estimator:hover {\n",
       "  /* unfitted */\n",
       "  background-color: var(--sklearn-color-unfitted-level-2);\n",
       "}\n",
       "\n",
       "#sk-container-id-2 div.sk-estimator.fitted:hover {\n",
       "  /* fitted */\n",
       "  background-color: var(--sklearn-color-fitted-level-2);\n",
       "}\n",
       "\n",
       "/* Specification for estimator info (e.g. \"i\" and \"?\") */\n",
       "\n",
       "/* Common style for \"i\" and \"?\" */\n",
       "\n",
       ".sk-estimator-doc-link,\n",
       "a:link.sk-estimator-doc-link,\n",
       "a:visited.sk-estimator-doc-link {\n",
       "  float: right;\n",
       "  font-size: smaller;\n",
       "  line-height: 1em;\n",
       "  font-family: monospace;\n",
       "  background-color: var(--sklearn-color-background);\n",
       "  border-radius: 1em;\n",
       "  height: 1em;\n",
       "  width: 1em;\n",
       "  text-decoration: none !important;\n",
       "  margin-left: 1ex;\n",
       "  /* unfitted */\n",
       "  border: var(--sklearn-color-unfitted-level-1) 1pt solid;\n",
       "  color: var(--sklearn-color-unfitted-level-1);\n",
       "}\n",
       "\n",
       ".sk-estimator-doc-link.fitted,\n",
       "a:link.sk-estimator-doc-link.fitted,\n",
       "a:visited.sk-estimator-doc-link.fitted {\n",
       "  /* fitted */\n",
       "  border: var(--sklearn-color-fitted-level-1) 1pt solid;\n",
       "  color: var(--sklearn-color-fitted-level-1);\n",
       "}\n",
       "\n",
       "/* On hover */\n",
       "div.sk-estimator:hover .sk-estimator-doc-link:hover,\n",
       ".sk-estimator-doc-link:hover,\n",
       "div.sk-label-container:hover .sk-estimator-doc-link:hover,\n",
       ".sk-estimator-doc-link:hover {\n",
       "  /* unfitted */\n",
       "  background-color: var(--sklearn-color-unfitted-level-3);\n",
       "  color: var(--sklearn-color-background);\n",
       "  text-decoration: none;\n",
       "}\n",
       "\n",
       "div.sk-estimator.fitted:hover .sk-estimator-doc-link.fitted:hover,\n",
       ".sk-estimator-doc-link.fitted:hover,\n",
       "div.sk-label-container:hover .sk-estimator-doc-link.fitted:hover,\n",
       ".sk-estimator-doc-link.fitted:hover {\n",
       "  /* fitted */\n",
       "  background-color: var(--sklearn-color-fitted-level-3);\n",
       "  color: var(--sklearn-color-background);\n",
       "  text-decoration: none;\n",
       "}\n",
       "\n",
       "/* Span, style for the box shown on hovering the info icon */\n",
       ".sk-estimator-doc-link span {\n",
       "  display: none;\n",
       "  z-index: 9999;\n",
       "  position: relative;\n",
       "  font-weight: normal;\n",
       "  right: .2ex;\n",
       "  padding: .5ex;\n",
       "  margin: .5ex;\n",
       "  width: min-content;\n",
       "  min-width: 20ex;\n",
       "  max-width: 50ex;\n",
       "  color: var(--sklearn-color-text);\n",
       "  box-shadow: 2pt 2pt 4pt #999;\n",
       "  /* unfitted */\n",
       "  background: var(--sklearn-color-unfitted-level-0);\n",
       "  border: .5pt solid var(--sklearn-color-unfitted-level-3);\n",
       "}\n",
       "\n",
       ".sk-estimator-doc-link.fitted span {\n",
       "  /* fitted */\n",
       "  background: var(--sklearn-color-fitted-level-0);\n",
       "  border: var(--sklearn-color-fitted-level-3);\n",
       "}\n",
       "\n",
       ".sk-estimator-doc-link:hover span {\n",
       "  display: block;\n",
       "}\n",
       "\n",
       "/* \"?\"-specific style due to the `<a>` HTML tag */\n",
       "\n",
       "#sk-container-id-2 a.estimator_doc_link {\n",
       "  float: right;\n",
       "  font-size: 1rem;\n",
       "  line-height: 1em;\n",
       "  font-family: monospace;\n",
       "  background-color: var(--sklearn-color-background);\n",
       "  border-radius: 1rem;\n",
       "  height: 1rem;\n",
       "  width: 1rem;\n",
       "  text-decoration: none;\n",
       "  /* unfitted */\n",
       "  color: var(--sklearn-color-unfitted-level-1);\n",
       "  border: var(--sklearn-color-unfitted-level-1) 1pt solid;\n",
       "}\n",
       "\n",
       "#sk-container-id-2 a.estimator_doc_link.fitted {\n",
       "  /* fitted */\n",
       "  border: var(--sklearn-color-fitted-level-1) 1pt solid;\n",
       "  color: var(--sklearn-color-fitted-level-1);\n",
       "}\n",
       "\n",
       "/* On hover */\n",
       "#sk-container-id-2 a.estimator_doc_link:hover {\n",
       "  /* unfitted */\n",
       "  background-color: var(--sklearn-color-unfitted-level-3);\n",
       "  color: var(--sklearn-color-background);\n",
       "  text-decoration: none;\n",
       "}\n",
       "\n",
       "#sk-container-id-2 a.estimator_doc_link.fitted:hover {\n",
       "  /* fitted */\n",
       "  background-color: var(--sklearn-color-fitted-level-3);\n",
       "}\n",
       "</style><div id=\"sk-container-id-2\" class=\"sk-top-container\"><div class=\"sk-text-repr-fallback\"><pre>RandomForestClassifier(class_weight=&#x27;balanced&#x27;, random_state=42)</pre><b>In a Jupyter environment, please rerun this cell to show the HTML representation or trust the notebook. <br />On GitHub, the HTML representation is unable to render, please try loading this page with nbviewer.org.</b></div><div class=\"sk-container\" hidden><div class=\"sk-item\"><div class=\"sk-estimator fitted sk-toggleable\"><input class=\"sk-toggleable__control sk-hidden--visually\" id=\"sk-estimator-id-2\" type=\"checkbox\" checked><label for=\"sk-estimator-id-2\" class=\"sk-toggleable__label fitted sk-toggleable__label-arrow fitted\">&nbsp;&nbsp;RandomForestClassifier<a class=\"sk-estimator-doc-link fitted\" rel=\"noreferrer\" target=\"_blank\" href=\"https://scikit-learn.org/1.5/modules/generated/sklearn.ensemble.RandomForestClassifier.html\">?<span>Documentation for RandomForestClassifier</span></a><span class=\"sk-estimator-doc-link fitted\">i<span>Fitted</span></span></label><div class=\"sk-toggleable__content fitted\"><pre>RandomForestClassifier(class_weight=&#x27;balanced&#x27;, random_state=42)</pre></div> </div></div></div></div>"
      ],
      "text/plain": [
       "RandomForestClassifier(class_weight='balanced', random_state=42)"
      ]
     },
     "execution_count": 54,
     "metadata": {},
     "output_type": "execute_result"
    }
   ],
   "source": [
    "# Train a Random Forest model with balanced class weights to handle class imbalance\n",
    "model = RandomForestClassifier(n_estimators=100, random_state=42, class_weight='balanced') \n",
    "model.fit(X_train, y_train) "
   ]
  },
  {
   "cell_type": "markdown",
   "metadata": {},
   "source": [
    "# 4.0 Validation"
   ]
  },
  {
   "cell_type": "code",
   "execution_count": 55,
   "metadata": {},
   "outputs": [],
   "source": [
    "# Make predictions on the testing set\n",
    "y_pred = model.predict(X_test)"
   ]
  },
  {
   "cell_type": "code",
   "execution_count": 56,
   "metadata": {},
   "outputs": [
    {
     "name": "stdout",
     "output_type": "stream",
     "text": [
      "\n",
      "### Model Evaluation on Train/Validation Dataset ###\n",
      "Accuracy: 0.9960848287112561\n",
      "Precision: 0.9960740242989772\n",
      "Recall: 0.9960848287112561\n",
      "F1-score: 0.9960539829959884\n"
     ]
    }
   ],
   "source": [
    "# Evaluate Predictions\n",
    "print(\"\\n### Model Evaluation on Train/Validation Dataset ###\")\n",
    "\n",
    "# Accuracy: Proportion of correctly predicted samples\n",
    "accuracy = accuracy_score(y_test, y_pred)\n",
    "print(\"Accuracy:\", accuracy)\n",
    "\n",
    "# Precision: Ratio of true positives to all predicted positives\n",
    "precision = precision_score(y_test, y_pred, average='weighted') # Weighted average for multi-class\n",
    "print(\"Precision:\", precision)\n",
    "\n",
    "# Recall: Ratio of true positives to all actual positives\n",
    "recall = recall_score(y_test, y_pred, average='weighted')  # Weighted average for multi-class\n",
    "print(\"Recall:\", recall)\n",
    "\n",
    "# F1-score: Harmonic mean of precision and recall\n",
    "f1 = f1_score(y_test, y_pred, average='weighted')  # Weighted average for multi-class\n",
    "print(\"F1-score:\", f1)"
   ]
  },
  {
   "cell_type": "markdown",
   "metadata": {},
   "source": [
    "### Classification Report"
   ]
  },
  {
   "cell_type": "code",
   "execution_count": 57,
   "metadata": {},
   "outputs": [
    {
     "name": "stdout",
     "output_type": "stream",
     "text": [
      "\n",
      "Classification Report:\n",
      "              precision    recall  f1-score   support\n",
      "\n",
      "           0       1.00      1.00      1.00       972\n",
      "           1       0.99      0.98      0.99       120\n",
      "           2       1.00      1.00      1.00       292\n",
      "           3       0.95      1.00      0.98        20\n",
      "           4       0.95      0.90      0.93        41\n",
      "           5       1.00      1.00      1.00         9\n",
      "           6       1.00      1.00      1.00       204\n",
      "           7       1.00      1.00      1.00       346\n",
      "           8       1.00      1.00      1.00       248\n",
      "           9       1.00      1.00      1.00        67\n",
      "          10       1.00      1.00      1.00       354\n",
      "          11       1.00      1.00      1.00       229\n",
      "          12       0.93      0.96      0.95        56\n",
      "          13       1.00      1.00      1.00        97\n",
      "          14       0.89      0.80      0.84        10\n",
      "\n",
      "    accuracy                           1.00      3065\n",
      "   macro avg       0.98      0.98      0.98      3065\n",
      "weighted avg       1.00      1.00      1.00      3065\n",
      "\n"
     ]
    }
   ],
   "source": [
    "# Classification Report\n",
    "print(\"\\nClassification Report:\")\n",
    "print(classification_report(y_test, y_pred))\n"
   ]
  },
  {
   "cell_type": "markdown",
   "metadata": {},
   "source": [
    "### Confusion Matrix"
   ]
  },
  {
   "cell_type": "code",
   "execution_count": 58,
   "metadata": {},
   "outputs": [
    {
     "name": "stdout",
     "output_type": "stream",
     "text": [
      "\n",
      "Confusion Matrix:\n"
     ]
    },
    {
     "data": {
      "text/plain": [
       "<Figure size 800x600 with 0 Axes>"
      ]
     },
     "execution_count": 58,
     "metadata": {},
     "output_type": "execute_result"
    },
    {
     "data": {
      "text/plain": [
       "<Axes: >"
      ]
     },
     "execution_count": 58,
     "metadata": {},
     "output_type": "execute_result"
    },
    {
     "data": {
      "text/plain": [
       "Text(0.5, 36.72222222222221, 'Predicted Clade')"
      ]
     },
     "execution_count": 58,
     "metadata": {},
     "output_type": "execute_result"
    },
    {
     "data": {
      "text/plain": [
       "Text(70.72222222222221, 0.5, 'True Clade')"
      ]
     },
     "execution_count": 58,
     "metadata": {},
     "output_type": "execute_result"
    },
    {
     "data": {
      "text/plain": [
       "Text(0.5, 1.0, 'Confusion Matrix')"
      ]
     },
     "execution_count": 58,
     "metadata": {},
     "output_type": "execute_result"
    },
    {
     "data": {
      "image/png": "[encoded data removed]",
      "text/plain": [
       "<Figure size 800x600 with 2 Axes>"
      ]
     },
     "metadata": {},
     "output_type": "display_data"
    }
   ],
   "source": [
    "# Confusion Matrix with Seaborn\n",
    "print(\"\\nConfusion Matrix:\")\n",
    "cm = confusion_matrix(y_test, y_pred)\n",
    "\n",
    "# Create a new figure for the confusion matrix\n",
    "plt.figure(figsize=(8, 6))\n",
    "\n",
    "# Create heatmap using seaborn\n",
    "heatmap(cm, annot=True, fmt=\"d\", cmap=\"Blues\") # Customize heatmap with annotations, format, and colormap\n",
    "\n",
    "# Add labels and title\n",
    "plt.xlabel(\"Predicted Clade\")\n",
    "plt.ylabel(\"True Clade\")\n",
    "plt.title(\"Confusion Matrix\")\n",
    "\n",
    "# Show the confusion matrix\n",
    "plt.show()"
   ]
  },
  {
   "cell_type": "markdown",
   "metadata": {},
   "source": [
    "End the timer"
   ]
  },
  {
   "cell_type": "code",
   "execution_count": 59,
   "metadata": {},
   "outputs": [],
   "source": [
    "# End timing\n",
    "end_time = time.time()"
   ]
  },
  {
   "cell_type": "code",
   "execution_count": 60,
   "metadata": {},
   "outputs": [
    {
     "name": "stdout",
     "output_type": "stream",
     "text": [
      "\n",
      "Total training and validation runtime: 60.73 seconds\n"
     ]
    }
   ],
   "source": [
    "# Calculate and print total training and validation runtime\n",
    "total_time = end_time - start_time\n",
    "print(f\"\\nTotal training and validation runtime: {total_time:.2f} seconds\")"
   ]
  },
  {
   "cell_type": "markdown",
   "metadata": {},
   "source": [
    "## Feature Importance"
   ]
  },
  {
   "cell_type": "code",
   "execution_count": 61,
   "metadata": {},
   "outputs": [
    {
     "name": "stdout",
     "output_type": "stream",
     "text": [
      "\n",
      "Top 20 most important k-mers:\n"
     ]
    },
    {
     "data": {
      "text/html": [
       "<div>\n",
       "<style scoped>\n",
       "    .dataframe tbody tr th:only-of-type {\n",
       "        vertical-align: middle;\n",
       "    }\n",
       "\n",
       "    .dataframe tbody tr th {\n",
       "        vertical-align: top;\n",
       "    }\n",
       "\n",
       "    .dataframe thead th {\n",
       "        text-align: right;\n",
       "    }\n",
       "</style>\n",
       "<table border=\"1\" class=\"dataframe\">\n",
       "  <thead>\n",
       "    <tr style=\"text-align: right;\">\n",
       "      <th></th>\n",
       "      <th>kmer</th>\n",
       "      <th>importance</th>\n",
       "    </tr>\n",
       "  </thead>\n",
       "  <tbody>\n",
       "    <tr>\n",
       "      <th>1069</th>\n",
       "      <td>x0_ggacac</td>\n",
       "      <td>0.012494</td>\n",
       "    </tr>\n",
       "    <tr>\n",
       "      <th>908</th>\n",
       "      <td>x0_gacaat</td>\n",
       "      <td>0.007897</td>\n",
       "    </tr>\n",
       "    <tr>\n",
       "      <th>668</th>\n",
       "      <td>x0_ccaaga</td>\n",
       "      <td>0.007718</td>\n",
       "    </tr>\n",
       "    <tr>\n",
       "      <th>229</th>\n",
       "      <td>x0_acccgg</td>\n",
       "      <td>0.007179</td>\n",
       "    </tr>\n",
       "    <tr>\n",
       "      <th>303</th>\n",
       "      <td>x0_agagat</td>\n",
       "      <td>0.007070</td>\n",
       "    </tr>\n",
       "    <tr>\n",
       "      <th>95</th>\n",
       "      <td>x0_aagaga</td>\n",
       "      <td>0.007014</td>\n",
       "    </tr>\n",
       "    <tr>\n",
       "      <th>1197</th>\n",
       "      <td>x0_gtctaa</td>\n",
       "      <td>0.006995</td>\n",
       "    </tr>\n",
       "    <tr>\n",
       "      <th>312</th>\n",
       "      <td>x0_agatgc</td>\n",
       "      <td>0.006942</td>\n",
       "    </tr>\n",
       "    <tr>\n",
       "      <th>638</th>\n",
       "      <td>x0_catcta</td>\n",
       "      <td>0.006741</td>\n",
       "    </tr>\n",
       "    <tr>\n",
       "      <th>17</th>\n",
       "      <td>x0_aaaccg</td>\n",
       "      <td>0.006519</td>\n",
       "    </tr>\n",
       "    <tr>\n",
       "      <th>1488</th>\n",
       "      <td>x0_tggaca</td>\n",
       "      <td>0.006337</td>\n",
       "    </tr>\n",
       "    <tr>\n",
       "      <th>700</th>\n",
       "      <td>x0_cccaat</td>\n",
       "      <td>0.006305</td>\n",
       "    </tr>\n",
       "    <tr>\n",
       "      <th>836</th>\n",
       "      <td>x0_ctgccc</td>\n",
       "      <td>0.006174</td>\n",
       "    </tr>\n",
       "    <tr>\n",
       "      <th>352</th>\n",
       "      <td>x0_aggctg</td>\n",
       "      <td>0.005722</td>\n",
       "    </tr>\n",
       "    <tr>\n",
       "      <th>250</th>\n",
       "      <td>x0_acgtct</td>\n",
       "      <td>0.005656</td>\n",
       "    </tr>\n",
       "    <tr>\n",
       "      <th>1606</th>\n",
       "      <td>x0_ttgagg</td>\n",
       "      <td>0.005614</td>\n",
       "    </tr>\n",
       "    <tr>\n",
       "      <th>26</th>\n",
       "      <td>x0_aaagag</td>\n",
       "      <td>0.005600</td>\n",
       "    </tr>\n",
       "    <tr>\n",
       "      <th>1293</th>\n",
       "      <td>x0_tactat</td>\n",
       "      <td>0.005362</td>\n",
       "    </tr>\n",
       "    <tr>\n",
       "      <th>1102</th>\n",
       "      <td>x0_ggctgg</td>\n",
       "      <td>0.005351</td>\n",
       "    </tr>\n",
       "    <tr>\n",
       "      <th>261</th>\n",
       "      <td>x0_actatt</td>\n",
       "      <td>0.005241</td>\n",
       "    </tr>\n",
       "  </tbody>\n",
       "</table>\n",
       "</div>"
      ],
      "text/plain": [
       "           kmer  importance\n",
       "1069  x0_ggacac    0.012494\n",
       "908   x0_gacaat    0.007897\n",
       "668   x0_ccaaga    0.007718\n",
       "229   x0_acccgg    0.007179\n",
       "303   x0_agagat    0.007070\n",
       "95    x0_aagaga    0.007014\n",
       "1197  x0_gtctaa    0.006995\n",
       "312   x0_agatgc    0.006942\n",
       "638   x0_catcta    0.006741\n",
       "17    x0_aaaccg    0.006519\n",
       "1488  x0_tggaca    0.006337\n",
       "700   x0_cccaat    0.006305\n",
       "836   x0_ctgccc    0.006174\n",
       "352   x0_aggctg    0.005722\n",
       "250   x0_acgtct    0.005656\n",
       "1606  x0_ttgagg    0.005614\n",
       "26    x0_aaagag    0.005600\n",
       "1293  x0_tactat    0.005362\n",
       "1102  x0_ggctgg    0.005351\n",
       "261   x0_actatt    0.005241"
      ]
     },
     "metadata": {},
     "output_type": "display_data"
    }
   ],
   "source": [
    "# Feature Importance Analysis\n",
    "\n",
    "importances = model.feature_importances_\n",
    "\n",
    "# Map feature indices back to k-mers\n",
    "kmer_names = process_chunk.ohe.get_feature_names_out()  # Get k-mer names from the encoder\n",
    "\n",
    "feature_importances = pd.DataFrame({'kmer': kmer_names, 'importance': importances})\n",
    "feature_importances.sort_values(by='importance', ascending=False, inplace=True)\n",
    "\n",
    "# Display the top N most important k-mers\n",
    "N = 20  # You can adjust this to show more or fewer k-mers\n",
    "print(\"\\nTop\", N, \"most important k-mers:\")\n",
    "display(feature_importances.head(N))"
   ]
  },
  {
   "cell_type": "markdown",
   "metadata": {},
   "source": [
    "# 5.0 Test"
   ]
  },
  {
   "cell_type": "markdown",
   "metadata": {},
   "source": [
    "## 5.1 Load and Prepare Unseen Test Data"
   ]
  },
  {
   "cell_type": "code",
   "execution_count": null,
   "metadata": {},
   "outputs": [],
   "source": [
    "# Parse the FASTA file for the new dataset\n",
    "test_records = list(SeqIO.parse(\"/home/ajvilleg/Netdrive/AI/GISAID/EpiFlu_Test/04-Jul-2024_Canada/gisaid_epiflu_sequence_04-Jul-2024_Canada.fasta\", \"fasta\"))"
   ]
  },
  {
   "cell_type": "code",
   "execution_count": null,
   "metadata": {},
   "outputs": [],
   "source": [
    "# Extract the details from the description of each record\n",
    "test_data = []\n",
    "\n",
    "# Iterate through records for every pair for NA and HA segments\n",
    "for record1, record2 in zip(test_records[::2], test_records[1::2]):\n",
    "    description1 = record1.description.split('|')\n",
    "    description2 = record2.description.split('|')\n",
    "\n",
    "    # Assume the isolate name is the same for both segments\n",
    "    isolate_name1 = description1[0].strip()\n",
    "    isolate_name2 = description2[0].strip()\n",
    "    if isolate_name1 != isolate_name2:\n",
    "        print(f\"Isolate names do not match: {isolate_name1} vs {isolate_name2}\")\n",
    "        raise ValueError(\"Isolate names do not match\")\n",
    "\n",
    "    # Assume the isolate ID is the same for both segments\n",
    "    isolate_id1 = description1[1].strip()\n",
    "    isolate_id2 = description2[1].strip()\n",
    "    if isolate_id1 != isolate_id2:\n",
    "        print(f\"Isolate IDs do not match: {isolate_id1} vs {isolate_id2}\")\n",
    "        raise ValueError(\"Isolate IDs do not match\")\n",
    "\n",
    "    # Assume the flu type is the same for both segments\n",
    "    flu_type1 = description1[2].strip()\n",
    "    flu_type2 = description2[2].strip()\n",
    "    if flu_type1 != flu_type2:\n",
    "        print(f\"Flu types do not match: {flu_type1} vs {flu_type2}\")\n",
    "        raise ValueError(\"Flu types do not match\")\n",
    "\n",
    "    # Assume the lineage is the same for both segments\n",
    "    lineage1 = description1[3].strip()\n",
    "    lineage2 = description2[3].strip()\n",
    "    if lineage1 != lineage2:\n",
    "        print(f\"Lineages do not match: {lineage1} vs {lineage2}\")\n",
    "        raise ValueError(\"Lineages do not match\")\n",
    "\n",
    "    # The segment labels are different for NA and HA segments\n",
    "    segment1 = description1[4].strip()\n",
    "    segment2 = description2[4].strip()  \n",
    "\n",
    "    # Assume the collection date is the same for both segments\n",
    "    collection_date1 = description1[5].strip()\n",
    "    collection_date2 = description2[5].strip()\n",
    "    if collection_date1 != collection_date2:\n",
    "        print(f\"Collection dates do not match: {collection_date1} vs {collection_date2}\")\n",
    "        raise ValueError(\"Collection dates do not match\")\n",
    "\n",
    "    # Assume the clade is the same for both segments. This is important as this will be our label for classification\n",
    "    clade1 = description1[6].strip()\n",
    "    clade2 = description2[6].strip()\n",
    "    if clade1 != clade2:\n",
    "        print(f\"Clades do not match: {clade1} vs {clade2}\")\n",
    "        raise ValueError(\"Clades do not match\")\n",
    "\n",
    "    # The sequences will be different corresopnding to the NA and HA segments\n",
    "    sequence1 = str(record1.seq)\n",
    "    sequence2 = str(record2.seq)\n",
    "    if segment1 == 'HA':\n",
    "        sequence_ha = sequence1\n",
    "        sequence_na = sequence2\n",
    "    else: # segment2 == 'HA'\n",
    "        sequence_ha = sequence2\n",
    "        sequence_na = sequence1\n",
    "    test_data.append([isolate_name1, isolate_id1, flu_type1, lineage1, sequence_ha, sequence_na, collection_date1, clade1])\n",
    "\n",
    "test_df = pd.DataFrame(test_data, columns=['Isolate_Name', 'Isolate_ID', 'Flu_Type', 'Lineage', 'HA', 'NA', 'Collection Date', 'Clade'])\n"
   ]
  },
  {
   "cell_type": "code",
   "execution_count": null,
   "metadata": {},
   "outputs": [],
   "source": [
    "# Take a look at the data\n",
    "display(test_df)"
   ]
  },
  {
   "cell_type": "markdown",
   "metadata": {},
   "source": [
    "## 5.2 EDA"
   ]
  },
  {
   "cell_type": "markdown",
   "metadata": {},
   "source": [
    "### 5.2.1 Dataframe structure"
   ]
  },
  {
   "cell_type": "code",
   "execution_count": null,
   "metadata": {},
   "outputs": [],
   "source": [
    "test_df.info()"
   ]
  },
  {
   "cell_type": "code",
   "execution_count": null,
   "metadata": {},
   "outputs": [],
   "source": [
    "# Convert all columns to strings except Collection Date\n",
    "test_df = test_df.astype(str)\n",
    "\n",
    "# Convert \"Collection Date\" column to date\n",
    "test_df[\"Collection Date\"] = pd.to_datetime(test_df[\"Collection Date\"])\n",
    "\n",
    "test_df.info()"
   ]
  },
  {
   "cell_type": "markdown",
   "metadata": {},
   "source": [
    "### 5.2.2 Describe"
   ]
  },
  {
   "cell_type": "code",
   "execution_count": null,
   "metadata": {},
   "outputs": [],
   "source": [
    "test_df.describe()"
   ]
  },
  {
   "cell_type": "markdown",
   "metadata": {},
   "source": [
    "### 5.2.3 Duplicated rows"
   ]
  },
  {
   "cell_type": "code",
   "execution_count": null,
   "metadata": {},
   "outputs": [],
   "source": [
    "# Check for duplicated rows in test data\n",
    "print(f'test_df has {test_df.duplicated().sum()} duplicate rows')\n",
    "display(test_df[test_df.duplicated()])\n",
    "# Drop duplicates and check again\n",
    "test_df.drop_duplicates(inplace=True)\n",
    "print(f'test_df has {test_df.duplicated().sum()} duplicate rows')"
   ]
  },
  {
   "cell_type": "markdown",
   "metadata": {},
   "source": [
    "### 5.2.4 Missing values / NaN / Empty Strings"
   ]
  },
  {
   "cell_type": "code",
   "execution_count": null,
   "metadata": {},
   "outputs": [],
   "source": [
    "# Check for missing values and empty strings\n",
    "print(\"Missing values in test_df:\")\n",
    "print(test_df.isnull().sum())  # Check for NaN values\n",
    "print(\"\\nEmpty string values in test_df:\")\n",
    "for col in test_df.select_dtypes(include=['object']):  # Iterate over columns with string datatype\n",
    "    print(f\"{col}: {(test_df[col] == '').sum()}\")     # Count empty strings"
   ]
  },
  {
   "cell_type": "code",
   "execution_count": null,
   "metadata": {},
   "outputs": [],
   "source": [
    "# Drop rows with nulls in the test data\n",
    "test_df.dropna(inplace=True)  # Drop rows with NaN values"
   ]
  },
  {
   "cell_type": "code",
   "execution_count": null,
   "metadata": {},
   "outputs": [],
   "source": [
    "# Drop rows with empty strings in the test data\n",
    "\n",
    "# Create mask for rows with empty strings\n",
    "test_mask = (test_df == '').any(axis=1)\n",
    "\n",
    "# Invert mask to select rows without empty strings\n",
    "test_df = test_df[~test_mask]"
   ]
  },
  {
   "cell_type": "code",
   "execution_count": null,
   "metadata": {},
   "outputs": [],
   "source": [
    "# Check for missing values and empty strings\n",
    "print(\"Missing values in test_df:\")\n",
    "print(test_df.isnull().sum())  # Check for NaN values\n",
    "print(\"\\nEmpty string values in test_df:\")\n",
    "for col in test_df.select_dtypes(include=['object']):  # Iterate over columns with string datatype\n",
    "    print(f\"{col}: {(test_df[col] == '').sum()}\")     # Count empty strings"
   ]
  },
  {
   "cell_type": "markdown",
   "metadata": {},
   "source": [
    "### 5.2.5 Class imbalance in the Clade column"
   ]
  },
  {
   "cell_type": "code",
   "execution_count": null,
   "metadata": {},
   "outputs": [],
   "source": [
    "test_df['Clade'].value_counts()"
   ]
  },
  {
   "cell_type": "code",
   "execution_count": null,
   "metadata": {},
   "outputs": [],
   "source": [
    "# Drop rows with \"unassigned\" in 'Clade' from the training data\n",
    "test_df = test_df[test_df['Clade'] != 'unassigned']  # Filter out rows with label \"unassigned\""
   ]
  },
  {
   "cell_type": "code",
   "execution_count": null,
   "metadata": {},
   "outputs": [],
   "source": [
    "test_df['Clade'].value_counts()"
   ]
  },
  {
   "cell_type": "markdown",
   "metadata": {},
   "source": [
    "### 5.2.6 Shape"
   ]
  },
  {
   "cell_type": "code",
   "execution_count": null,
   "metadata": {},
   "outputs": [],
   "source": [
    "test_df.shape"
   ]
  },
  {
   "cell_type": "markdown",
   "metadata": {},
   "source": [
    "### 5.2.7 Look at sequence length stats"
   ]
  },
  {
   "cell_type": "code",
   "execution_count": null,
   "metadata": {},
   "outputs": [],
   "source": [
    "new_ha_sequence_lengths = test_df.apply(get_sequence_length, axis=1, column=\"HA\")\n",
    "new_na_sequence_lengths = test_df.apply(get_sequence_length, axis=1, column=\"NA\")\n",
    "print(\"Sequence lengths in HA columns:\")\n",
    "new_ha_sequence_lengths.describe()\n",
    "print(\"Sequence lengths in NA columns:\")\n",
    "new_na_sequence_lengths.describe()"
   ]
  },
  {
   "cell_type": "markdown",
   "metadata": {},
   "source": [
    "### 5.2.8 Extra HA1 Region"
   ]
  },
  {
   "cell_type": "code",
   "execution_count": null,
   "metadata": {},
   "outputs": [],
   "source": [
    "# Use the previously defined function to extract HA1 sequences and previously defined start strings\n",
    "test_df['HA1'] = parallel_extract_ha1(test_df['HA'].astype(str).tolist())"
   ]
  },
  {
   "cell_type": "code",
   "execution_count": null,
   "metadata": {},
   "outputs": [],
   "source": [
    "# Print the modified DataFrame\n",
    "test_df"
   ]
  },
  {
   "cell_type": "code",
   "execution_count": null,
   "metadata": {},
   "outputs": [],
   "source": [
    "test_df.info()"
   ]
  },
  {
   "cell_type": "markdown",
   "metadata": {},
   "source": [
    "#### Drop any empty HA1 subregions"
   ]
  },
  {
   "cell_type": "code",
   "execution_count": null,
   "metadata": {},
   "outputs": [],
   "source": [
    "test_df.shape"
   ]
  },
  {
   "cell_type": "code",
   "execution_count": null,
   "metadata": {},
   "outputs": [],
   "source": [
    "# Drop rows with empty strings in 'HA1' from the training data\n",
    "# This step only works when the extraction is run, not when loading the saved extraction file\n",
    "test_df = test_df[(test_df['HA1'] != '')]\n",
    "test_df.shape"
   ]
  },
  {
   "cell_type": "code",
   "execution_count": null,
   "metadata": {},
   "outputs": [],
   "source": [
    "# Drop rows with NaN in 'HA1' from the training data\n",
    "# This step only works when loading the saved extraction file, not when running the extraction\n",
    "# Excel adds NaN values when saving empty strings\n",
    "test_df.dropna(subset=['HA1'], inplace=True)  # Drop rows with NaN (including empty strings)\n",
    "test_df.shape"
   ]
  },
  {
   "cell_type": "code",
   "execution_count": null,
   "metadata": {},
   "outputs": [],
   "source": [
    "test_ha1_sequence_lengths = test_df.apply(get_sequence_length, axis=1, column=\"HA1\")\n",
    "print(\"Sequence lengths in Test HA1 columns:\")\n",
    "test_ha1_sequence_lengths.describe()"
   ]
  },
  {
   "cell_type": "markdown",
   "metadata": {},
   "source": [
    "#### Drop rows where HA1 subregion < 981"
   ]
  },
  {
   "cell_type": "code",
   "execution_count": null,
   "metadata": {},
   "outputs": [],
   "source": [
    "test_df = test_df[test_ha1_sequence_lengths >= 981]"
   ]
  },
  {
   "cell_type": "code",
   "execution_count": null,
   "metadata": {},
   "outputs": [],
   "source": [
    "test_ha1_sequence_lengths = test_df.apply(get_sequence_length, axis=1, column=\"HA1\")\n",
    "print(\"Sequence lengths in Test HA1 columns:\")\n",
    "test_ha1_sequence_lengths.describe()"
   ]
  },
  {
   "cell_type": "code",
   "execution_count": null,
   "metadata": {},
   "outputs": [],
   "source": [
    "# Create an empty dictionary to store kmers for each sequence in the new dataset (identified by row index)\n",
    "test_kmer_dict = {}"
   ]
  },
  {
   "cell_type": "code",
   "execution_count": null,
   "metadata": {},
   "outputs": [],
   "source": [
    "# Extract k-mers from each sequence and store them in the dictionary\n",
    "for i, row in test_df.iterrows():\n",
    "    # Extract kmers from HA sequence (assuming it exists)\n",
    "    ha1_kmers = []\n",
    "    if \"HA1\" in row:  # Check if \"HA\" column exists\n",
    "        sequence = str(row[\"HA1\"])\n",
    "        ha1_kmers = get_kmers(sequence, kmer_length)\n",
    "\n",
    "    # Store kmers separately in the dictionary\n",
    "    test_kmer_dict[i] = {\n",
    "        \"HA1\": ha1_kmers\n",
    "    }"
   ]
  },
  {
   "cell_type": "code",
   "execution_count": null,
   "metadata": {},
   "outputs": [],
   "source": [
    "# One-Hot Encoding on new data using the same kmer chunking logic as before to optimize memory usage\n",
    "# Apply the same k-mer extraction and chunking as with training data\n",
    "test_ha1_features = []\n",
    "for i in range(0, len(test_kmer_dict), chunk_size):\n",
    "    # Get a chunk of data\n",
    "    chunk_dict = dict(list(test_kmer_dict.items())[i:i + chunk_size])\n",
    "    \n",
    "    # Process features for the chunk\n",
    "    chunk_ha1_features = process_chunk(chunk_dict)\n",
    "    \n",
    "    # Append features from the chunk\n",
    "    test_ha1_features.extend(chunk_ha1_features)"
   ]
  },
  {
   "cell_type": "code",
   "execution_count": null,
   "metadata": {},
   "outputs": [],
   "source": [
    "# OHE\n",
    "# Convert list of lists to numpy array\n",
    "X_new = np.array(test_ha1_features)  "
   ]
  },
  {
   "cell_type": "code",
   "execution_count": null,
   "metadata": {},
   "outputs": [],
   "source": [
    "# Predict using the trained model\n",
    "y_pred_new = model.predict(X_new)\n",
    "\n",
    "# Decode predictions to get the original Clade labels\n",
    "predicted_clades = le.inverse_transform(y_pred_new)\n",
    "\n",
    "# Add predicted clades back to new_df\n",
    "test_df['Predicted_Clade'] = predicted_clades\n",
    "\n",
    "# Display the data with predictions and true clades\n",
    "display(test_df[['Isolate_Name', 'Isolate_ID', 'Collection Date', 'Clade', 'Predicted_Clade']])  # Display true and predicted clades"
   ]
  },
  {
   "cell_type": "code",
   "execution_count": null,
   "metadata": {},
   "outputs": [],
   "source": [
    "\n",
    "# Calculate and display metrics \n",
    "y_true_new = le.transform(test_df['Clade']) # Encode true labels"
   ]
  },
  {
   "cell_type": "code",
   "execution_count": null,
   "metadata": {},
   "outputs": [],
   "source": [
    "# Evaluate Predictions\n",
    "print(\"\\n### Model Evaluation on Test Dataset ###\")\n",
    "\n",
    "# Accuracy: Proportion of correctly predicted samples\n",
    "accuracy = accuracy_score(y_true_new, y_pred_new)\n",
    "print(\"Accuracy:\", accuracy)\n",
    "\n",
    "# Precision: Ratio of true positives to all predicted positives\n",
    "precision = precision_score(y_true_new, y_pred_new, average='weighted') # Weighted average for multi-class\n",
    "print(\"Precision:\", precision)\n",
    "\n",
    "# Recall: Ratio of true positives to all actual positives\n",
    "recall = recall_score(y_true_new, y_pred_new, average='weighted') # Weighted average for multi-class\n",
    "print(\"Recall:\", recall)\n",
    "\n",
    "# F1-score: Harmonic mean of precision and recall\n",
    "f1 = f1_score(y_true_new, y_pred_new, average='weighted') # Weighted average for multi-class\n",
    "print(\"F1-score:\", f1)"
   ]
  },
  {
   "cell_type": "code",
   "execution_count": null,
   "metadata": {},
   "outputs": [],
   "source": [
    "\n",
    "# Classification Report\n",
    "print(\"\\nClassification Report:\")\n",
    "print(classification_report(y_true_new, y_pred_new))"
   ]
  },
  {
   "cell_type": "code",
   "execution_count": null,
   "metadata": {},
   "outputs": [],
   "source": [
    "# Confusion Matrix with Seaborn\n",
    "print(\"\\nConfusion Matrix:\")\n",
    "cm = confusion_matrix(y_true_new, y_pred_new)\n",
    "\n",
    "# Create a new figure for the confusion matrix\n",
    "plt.figure(figsize=(8, 6))\n",
    "\n",
    "# Create heatmap using seaborn\n",
    "heatmap(cm, annot=True, fmt=\"d\", cmap=\"Blues\") # Customize heatmap with annotations, format, and colormap\n",
    "\n",
    "# Add labels and title\n",
    "plt.xlabel(\"Predicted Clade\")\n",
    "plt.ylabel(\"True Clade\")\n",
    "plt.title(\"Confusion Matrix\")\n",
    "\n",
    "# Show the confusion matrix\n",
    "plt.show()"
   ]
  }
 ],
 "metadata": {
  "kernelspec": {
   "display_name": "learn-flu",
   "language": "python",
   "name": "python3"
  },
  "language_info": {
   "codemirror_mode": {
    "name": "ipython",
    "version": 3
   },
   "file_extension": ".py",
   "mimetype": "text/x-python",
   "name": "python",
   "nbconvert_exporter": "python",
   "pygments_lexer": "ipython3",
   "version": "3.12.2"
  }
 },
 "nbformat": 4,
 "nbformat_minor": 2
}
